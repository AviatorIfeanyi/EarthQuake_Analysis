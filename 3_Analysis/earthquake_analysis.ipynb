{
 "cells": [
  {
   "cell_type": "code",
   "execution_count": 1,
   "id": "fd463457",
   "metadata": {},
   "outputs": [],
   "source": [
    "import pandas as pd \n",
    "import matplotlib.pyplot as plt\n",
    "import seaborn as sns\n",
    "import sqldf\n",
    "from dataprep.clean import validate_country"
   ]
  },
  {
   "cell_type": "code",
   "execution_count": 2,
   "id": "115507e4",
   "metadata": {},
   "outputs": [],
   "source": [
    "earthquake_df = pd.read_csv('./earthquake_data.csv')"
   ]
  },
  {
   "cell_type": "code",
   "execution_count": 3,
   "id": "22fcdda8",
   "metadata": {},
   "outputs": [
    {
     "data": {
      "text/html": [
       "<div>\n",
       "<style scoped>\n",
       "    .dataframe tbody tr th:only-of-type {\n",
       "        vertical-align: middle;\n",
       "    }\n",
       "\n",
       "    .dataframe tbody tr th {\n",
       "        vertical-align: top;\n",
       "    }\n",
       "\n",
       "    .dataframe thead th {\n",
       "        text-align: right;\n",
       "    }\n",
       "</style>\n",
       "<table border=\"1\" class=\"dataframe\">\n",
       "  <thead>\n",
       "    <tr style=\"text-align: right;\">\n",
       "      <th></th>\n",
       "      <th>year</th>\n",
       "      <th>month</th>\n",
       "      <th>hour</th>\n",
       "      <th>latitude</th>\n",
       "      <th>longitude</th>\n",
       "      <th>focal_depth_(km)</th>\n",
       "      <th>magnitude</th>\n",
       "      <th>country</th>\n",
       "      <th>magnitude_scale</th>\n",
       "    </tr>\n",
       "  </thead>\n",
       "  <tbody>\n",
       "    <tr>\n",
       "      <th>0</th>\n",
       "      <td>1950</td>\n",
       "      <td>1</td>\n",
       "      <td>17</td>\n",
       "      <td>27.255</td>\n",
       "      <td>53.029</td>\n",
       "      <td>15.0</td>\n",
       "      <td>5.7</td>\n",
       "      <td>IRAN</td>\n",
       "      <td>slight_damage</td>\n",
       "    </tr>\n",
       "    <tr>\n",
       "      <th>1</th>\n",
       "      <td>1950</td>\n",
       "      <td>1</td>\n",
       "      <td>0</td>\n",
       "      <td>-53.500</td>\n",
       "      <td>-71.500</td>\n",
       "      <td>33.0</td>\n",
       "      <td>7.0</td>\n",
       "      <td>CHILE</td>\n",
       "      <td>serious damage</td>\n",
       "    </tr>\n",
       "    <tr>\n",
       "      <th>2</th>\n",
       "      <td>1950</td>\n",
       "      <td>2</td>\n",
       "      <td>19</td>\n",
       "      <td>21.700</td>\n",
       "      <td>100.100</td>\n",
       "      <td>0.0</td>\n",
       "      <td>7.0</td>\n",
       "      <td>CHINA</td>\n",
       "      <td>serious damage</td>\n",
       "    </tr>\n",
       "    <tr>\n",
       "      <th>3</th>\n",
       "      <td>1950</td>\n",
       "      <td>2</td>\n",
       "      <td>9</td>\n",
       "      <td>40.000</td>\n",
       "      <td>40.000</td>\n",
       "      <td>0.0</td>\n",
       "      <td>0.0</td>\n",
       "      <td>TURKEY</td>\n",
       "      <td>limited damage</td>\n",
       "    </tr>\n",
       "    <tr>\n",
       "      <th>4</th>\n",
       "      <td>1950</td>\n",
       "      <td>2</td>\n",
       "      <td>10</td>\n",
       "      <td>46.000</td>\n",
       "      <td>144.000</td>\n",
       "      <td>340.0</td>\n",
       "      <td>7.9</td>\n",
       "      <td>RUSSIA</td>\n",
       "      <td>serious damage</td>\n",
       "    </tr>\n",
       "  </tbody>\n",
       "</table>\n",
       "</div>"
      ],
      "text/plain": [
       "   year  month  hour  latitude  longitude  focal_depth_(km)  magnitude  \\\n",
       "0  1950      1    17    27.255     53.029              15.0        5.7   \n",
       "1  1950      1     0   -53.500    -71.500              33.0        7.0   \n",
       "2  1950      2    19    21.700    100.100               0.0        7.0   \n",
       "3  1950      2     9    40.000     40.000               0.0        0.0   \n",
       "4  1950      2    10    46.000    144.000             340.0        7.9   \n",
       "\n",
       "  country magnitude_scale  \n",
       "0    IRAN   slight_damage  \n",
       "1   CHILE  serious damage  \n",
       "2   CHINA  serious damage  \n",
       "3  TURKEY  limited damage  \n",
       "4  RUSSIA  serious damage  "
      ]
     },
     "execution_count": 3,
     "metadata": {},
     "output_type": "execute_result"
    }
   ],
   "source": [
    "earthquake_df.head()"
   ]
  },
  {
   "cell_type": "code",
   "execution_count": 4,
   "id": "264ee7b3",
   "metadata": {},
   "outputs": [
    {
     "data": {
      "text/plain": [
       "(2756, 9)"
      ]
     },
     "execution_count": 4,
     "metadata": {},
     "output_type": "execute_result"
    }
   ],
   "source": [
    "earthquake_df.shape"
   ]
  },
  {
   "cell_type": "code",
   "execution_count": null,
   "id": "18b72b1b",
   "metadata": {},
   "outputs": [],
   "source": []
  },
  {
   "cell_type": "markdown",
   "id": "c5e73e22",
   "metadata": {},
   "source": [
    "\n",
    "## Insights and Visualization"
   ]
  },
  {
   "cell_type": "markdown",
   "id": "29ab949c",
   "metadata": {},
   "source": [
    "## 1) What is the trend of earthquake by Year\n",
    "## 2) Which is the most frequent occuring earthquake by magnitude_scale\n",
    "## 3) Which country has the most occurance of earthquakes\n",
    "## 4) What is the largest earthquake by magnitude\n",
    "## 5) Is there a relationship between focal_depth and magnitude\n",
    "## 6) What is the occurance of earthquake in 2022 by month\n",
    "## 7) Country with most earthquake in 2022\n",
    "## 8) What is the most frequent occuring earthquake in 2022 by magnitude scale"
   ]
  },
  {
   "cell_type": "code",
   "execution_count": 127,
   "id": "aca032bb",
   "metadata": {},
   "outputs": [
    {
     "data": {
      "text/plain": [
       "array(['IRAN', 'CHILE', 'CHINA', 'TURKEY', 'RUSSIA', 'BRAZIL', 'PANAMA',\n",
       "       'PERU', 'INDONESIA', 'COLOMBIA', 'VENEZUELA', 'ECUADOR',\n",
       "       'GUATEMALA', 'SOLOMON ISLANDS', 'MEXICO', 'PAPUA NEW GUINEA',\n",
       "       'PHILIPPINES', 'EL SALVADOR', 'NICARAGUA', 'ITALY', 'TAIWAN',\n",
       "       'JAPAN', 'COSTA RICA', 'HAITI', 'DOMINICAN REPUBLIC', 'GREECE',\n",
       "       'CYPRUS', 'AUSTRALIA', 'SPAIN', 'AFGHANISTAN', 'ALGERIA',\n",
       "       'PAKISTAN', 'INDIA', 'EGYPT', 'HUNGARY', 'NEW ZEALAND', 'LEBANON',\n",
       "       'TUNISIA', 'BOLIVIA', 'MONGOLIA', 'FRANCE', 'ALBANIA', 'MOROCCO',\n",
       "       'ETHIOPIA', 'LIBYA', 'TANZANIA', 'UGANDA', 'UZBEKISTAN', 'KENYA',\n",
       "       'ARMENIA', 'SOUTH AFRICA', 'GUADELOUPE', 'KAZAKHSTAN', 'CANADA',\n",
       "       'NEW CALEDONIA', 'ANTARCTICA', 'ARGENTINA', 'GABON', 'GUAM',\n",
       "       'ICELAND', 'MALAYSIA', 'TAJIKISTAN', 'ROMANIA', 'GERMANY',\n",
       "       'SOUTH KOREA', 'MONTENEGRO', 'SAMOA', 'HONDURAS', 'YEMEN',\n",
       "       'TURKMENISTAN', 'THAILAND', 'VIETNAM', 'BELGIUM', 'GUINEA',\n",
       "       'UNITED KINGDOM', 'GEORGIA', 'BULGARIA', 'BANGLADESH',\n",
       "       'PUERTO RICO', 'JAMAICA', 'MALAWI', 'DJIBOUTI',\n",
       "       'NORTHERN MARIANA ISLANDS', 'SOUTH SUDAN', 'IRAQ', 'CUBA', 'SUDAN',\n",
       "       'NEPAL', 'AUSTRIA', 'AZERBAIJAN', 'RWANDA', 'BHUTAN', 'SLOVAKIA',\n",
       "       'JORDAN', 'BURUNDI', 'SAUDI ARABIA', 'SLOVENIA', 'POLAND',\n",
       "       'MOZAMBIQUE', 'SWITZERLAND', 'LAOS', 'MARTINIQUE',\n",
       "       'CZECH REPUBLIC', 'MYANMAR', 'MADAGASCAR', 'ZAMBIA', 'COMOROS'],\n",
       "      dtype=object)"
      ]
     },
     "execution_count": 127,
     "metadata": {},
     "output_type": "execute_result"
    }
   ],
   "source": [
    "earthquake_df = earthquake_df[validate_country(earthquake_df[\"country\"])]\n",
    "earthquake_df.country.unique()"
   ]
  },
  {
   "cell_type": "code",
   "execution_count": null,
   "id": "c2529d42",
   "metadata": {},
   "outputs": [],
   "source": []
  },
  {
   "cell_type": "markdown",
   "id": "c9354c96",
   "metadata": {},
   "source": [
    "## Trend of earthquake by Year"
   ]
  },
  {
   "cell_type": "code",
   "execution_count": 98,
   "id": "a2b1635a",
   "metadata": {},
   "outputs": [
    {
     "data": {
      "text/plain": [
       "2004    78\n",
       "2008    77\n",
       "2003    72\n",
       "2018    69\n",
       "2007    67\n",
       "        ..\n",
       "1953    21\n",
       "1964    20\n",
       "1996    19\n",
       "1952    19\n",
       "1951    17\n",
       "Name: year, Length: 73, dtype: int64"
      ]
     },
     "execution_count": 98,
     "metadata": {},
     "output_type": "execute_result"
    }
   ],
   "source": [
    "earthquake_by_year = earthquake_df.year.value_counts()\n",
    "\n",
    "earthquake_by_year.sort_values(ascending=False)"
   ]
  },
  {
   "cell_type": "code",
   "execution_count": 99,
   "id": "22e48e71",
   "metadata": {},
   "outputs": [
    {
     "data": {
      "image/png": "[encoded data removed]",
      "text/plain": [
       "<Figure size 720x504 with 1 Axes>"
      ]
     },
     "metadata": {
      "needs_background": "light"
     },
     "output_type": "display_data"
    }
   ],
   "source": [
    "plt.figure(figsize=(10,7))\n",
    "sns.lineplot(x=earthquake_by_year.index, y=earthquake_by_year.values, data=earthquake_by_year, markers=True)\n",
    "plt.title('Trend of Earthquake Over the Years', fontsize=20, pad=10)\n",
    "plt.show()"
   ]
  },
  {
   "cell_type": "code",
   "execution_count": 116,
   "id": "3c3fabe4",
   "metadata": {},
   "outputs": [
    {
     "data": {
      "text/plain": [
       "29"
      ]
     },
     "execution_count": 116,
     "metadata": {},
     "output_type": "execute_result"
    }
   ],
   "source": [
    "len(earthquake_df[earthquake_df.year == 2020])"
   ]
  },
  {
   "cell_type": "markdown",
   "id": "f4bdbae6",
   "metadata": {},
   "source": [
    "## Which is the most frequent occuring earthquake by magnitude_scale"
   ]
  },
  {
   "cell_type": "code",
   "execution_count": 101,
   "id": "31214770",
   "metadata": {},
   "outputs": [
    {
     "data": {
      "image/png": "[encoded data removed]",
      "text/plain": [
       "<Figure size 432x288 with 1 Axes>"
      ]
     },
     "metadata": {
      "needs_background": "light"
     },
     "output_type": "display_data"
    }
   ],
   "source": [
    "earthquake_df.magnitude_scale.value_counts().plot(kind='barh', fontsize=20).invert_yaxis()\n",
    "plt.xticks([])\n",
    "plt.show()"
   ]
  },
  {
   "cell_type": "code",
   "execution_count": 102,
   "id": "58b59c0c",
   "metadata": {},
   "outputs": [
    {
     "data": {
      "image/png": "[encoded data removed]",
      "text/plain": [
       "<Figure size 720x504 with 1 Axes>"
      ]
     },
     "metadata": {
      "needs_background": "light"
     },
     "output_type": "display_data"
    }
   ],
   "source": [
    "plt.figure(figsize=(10,7))\n",
    "\n",
    "plt.hist(earthquake_df.magnitude, bins=50)\n",
    "\n",
    "plt.title('Frequent Occurring Magnitude', fontsize=20, pad=15)\n",
    "plt.yticks([])\n",
    "plt.show()"
   ]
  },
  {
   "cell_type": "code",
   "execution_count": null,
   "id": "d2017b8b",
   "metadata": {},
   "outputs": [],
   "source": []
  },
  {
   "cell_type": "markdown",
   "id": "dcbccaa5",
   "metadata": {},
   "source": [
    "## Which country has the most occurance of earthquakes"
   ]
  },
  {
   "cell_type": "code",
   "execution_count": 128,
   "id": "1a60687a",
   "metadata": {},
   "outputs": [
    {
     "data": {
      "image/png": "[encoded data removed]",
      "text/plain": [
       "<Figure size 720x432 with 1 Axes>"
      ]
     },
     "metadata": {
      "needs_background": "light"
     },
     "output_type": "display_data"
    }
   ],
   "source": [
    "plt.figure(figsize=(10,6))\n",
    "\n",
    "earthquake_df['country'].value_counts()[:10].sort_values().plot(kind='barh', fontsize=20)\n",
    "plt.title('Countries with the highest earthquakes')\n",
    "\n",
    "plt.show()"
   ]
  },
  {
   "cell_type": "code",
   "execution_count": null,
   "id": "643a2a52",
   "metadata": {},
   "outputs": [],
   "source": []
  },
  {
   "cell_type": "markdown",
   "id": "35ddea77",
   "metadata": {},
   "source": [
    "## Largest earthquake by magnitude"
   ]
  },
  {
   "cell_type": "code",
   "execution_count": 149,
   "id": "afb28a2a",
   "metadata": {},
   "outputs": [
    {
     "data": {
      "text/html": [
       "<div>\n",
       "<style scoped>\n",
       "    .dataframe tbody tr th:only-of-type {\n",
       "        vertical-align: middle;\n",
       "    }\n",
       "\n",
       "    .dataframe tbody tr th {\n",
       "        vertical-align: top;\n",
       "    }\n",
       "\n",
       "    .dataframe thead th {\n",
       "        text-align: right;\n",
       "    }\n",
       "</style>\n",
       "<table border=\"1\" class=\"dataframe\">\n",
       "  <thead>\n",
       "    <tr style=\"text-align: right;\">\n",
       "      <th></th>\n",
       "      <th>year</th>\n",
       "      <th>focal_depth_(km)</th>\n",
       "      <th>magnitude</th>\n",
       "      <th>country</th>\n",
       "      <th>magnitude_scale</th>\n",
       "    </tr>\n",
       "  </thead>\n",
       "  <tbody>\n",
       "    <tr>\n",
       "      <th>245</th>\n",
       "      <td>1960</td>\n",
       "      <td>33.0</td>\n",
       "      <td>9.5</td>\n",
       "      <td>CHILE</td>\n",
       "      <td>great damage</td>\n",
       "    </tr>\n",
       "    <tr>\n",
       "      <th>2083</th>\n",
       "      <td>2010</td>\n",
       "      <td>23.0</td>\n",
       "      <td>8.8</td>\n",
       "      <td>CHILE</td>\n",
       "      <td>great damage</td>\n",
       "    </tr>\n",
       "    <tr>\n",
       "      <th>1741</th>\n",
       "      <td>2004</td>\n",
       "      <td>30.0</td>\n",
       "      <td>9.1</td>\n",
       "      <td>INDONESIA</td>\n",
       "      <td>great damage</td>\n",
       "    </tr>\n",
       "    <tr>\n",
       "      <th>1763</th>\n",
       "      <td>2005</td>\n",
       "      <td>30.0</td>\n",
       "      <td>8.6</td>\n",
       "      <td>INDONESIA</td>\n",
       "      <td>great damage</td>\n",
       "    </tr>\n",
       "    <tr>\n",
       "      <th>2205</th>\n",
       "      <td>2012</td>\n",
       "      <td>20.0</td>\n",
       "      <td>8.6</td>\n",
       "      <td>INDONESIA</td>\n",
       "      <td>great damage</td>\n",
       "    </tr>\n",
       "    <tr>\n",
       "      <th>1910</th>\n",
       "      <td>2007</td>\n",
       "      <td>34.0</td>\n",
       "      <td>8.4</td>\n",
       "      <td>INDONESIA</td>\n",
       "      <td>great damage</td>\n",
       "    </tr>\n",
       "    <tr>\n",
       "      <th>2143</th>\n",
       "      <td>2011</td>\n",
       "      <td>30.0</td>\n",
       "      <td>9.1</td>\n",
       "      <td>JAPAN</td>\n",
       "      <td>great damage</td>\n",
       "    </tr>\n",
       "    <tr>\n",
       "      <th>1517</th>\n",
       "      <td>2001</td>\n",
       "      <td>33.0</td>\n",
       "      <td>8.4</td>\n",
       "      <td>PERU</td>\n",
       "      <td>great damage</td>\n",
       "    </tr>\n",
       "    <tr>\n",
       "      <th>60</th>\n",
       "      <td>1952</td>\n",
       "      <td>22.0</td>\n",
       "      <td>9.0</td>\n",
       "      <td>RUSSIA</td>\n",
       "      <td>great damage</td>\n",
       "    </tr>\n",
       "    <tr>\n",
       "      <th>347</th>\n",
       "      <td>1963</td>\n",
       "      <td>13.0</td>\n",
       "      <td>8.5</td>\n",
       "      <td>RUSSIA</td>\n",
       "      <td>great damage</td>\n",
       "    </tr>\n",
       "  </tbody>\n",
       "</table>\n",
       "</div>"
      ],
      "text/plain": [
       "      year  focal_depth_(km)  magnitude    country magnitude_scale\n",
       "245   1960              33.0        9.5      CHILE    great damage\n",
       "2083  2010              23.0        8.8      CHILE    great damage\n",
       "1741  2004              30.0        9.1  INDONESIA    great damage\n",
       "1763  2005              30.0        8.6  INDONESIA    great damage\n",
       "2205  2012              20.0        8.6  INDONESIA    great damage\n",
       "1910  2007              34.0        8.4  INDONESIA    great damage\n",
       "2143  2011              30.0        9.1      JAPAN    great damage\n",
       "1517  2001              33.0        8.4       PERU    great damage\n",
       "60    1952              22.0        9.0     RUSSIA    great damage\n",
       "347   1963              13.0        8.5     RUSSIA    great damage"
      ]
     },
     "execution_count": 149,
     "metadata": {},
     "output_type": "execute_result"
    }
   ],
   "source": [
    "earthquake_df.nlargest(columns='magnitude', n=10)[['year','focal_depth_(km)', 'magnitude', 'country', 'magnitude_scale']].sort_values(by='country')"
   ]
  },
  {
   "cell_type": "code",
   "execution_count": null,
   "id": "5cec8318",
   "metadata": {},
   "outputs": [],
   "source": []
  },
  {
   "cell_type": "markdown",
   "id": "05e8f3ce",
   "metadata": {},
   "source": [
    "## Relationship between focal_depth and magnitude"
   ]
  },
  {
   "cell_type": "code",
   "execution_count": 123,
   "id": "08a3afce",
   "metadata": {},
   "outputs": [
    {
     "data": {
      "image/png": "[encoded data removed]",
      "text/plain": [
       "<Figure size 720x360 with 1 Axes>"
      ]
     },
     "metadata": {
      "needs_background": "light"
     },
     "output_type": "display_data"
    }
   ],
   "source": [
    "plt.figure(figsize=(10,5))\n",
    "sns.regplot(x='magnitude', y='focal_depth_(km)', data=earthquake_df)\n",
    "plt.show()"
   ]
  },
  {
   "cell_type": "code",
   "execution_count": 60,
   "id": "c7c649f4",
   "metadata": {},
   "outputs": [],
   "source": [
    "import calendar"
   ]
  },
  {
   "cell_type": "code",
   "execution_count": 61,
   "id": "aa2cc710",
   "metadata": {},
   "outputs": [],
   "source": [
    "earthquake_df['month_name'] = earthquake_df['month'].apply(lambda x: calendar.month_name[x])"
   ]
  },
  {
   "cell_type": "code",
   "execution_count": null,
   "id": "720b058c",
   "metadata": {},
   "outputs": [],
   "source": []
  },
  {
   "cell_type": "markdown",
   "id": "aa96142d",
   "metadata": {},
   "source": [
    "## Occurance of earthquake in 2022 by month"
   ]
  },
  {
   "cell_type": "code",
   "execution_count": 62,
   "id": "626f3a99",
   "metadata": {},
   "outputs": [
    {
     "data": {
      "text/html": [
       "<div>\n",
       "<style scoped>\n",
       "    .dataframe tbody tr th:only-of-type {\n",
       "        vertical-align: middle;\n",
       "    }\n",
       "\n",
       "    .dataframe tbody tr th {\n",
       "        vertical-align: top;\n",
       "    }\n",
       "\n",
       "    .dataframe thead th {\n",
       "        text-align: right;\n",
       "    }\n",
       "</style>\n",
       "<table border=\"1\" class=\"dataframe\">\n",
       "  <thead>\n",
       "    <tr style=\"text-align: right;\">\n",
       "      <th></th>\n",
       "      <th>year</th>\n",
       "      <th>month</th>\n",
       "      <th>hour</th>\n",
       "      <th>latitude</th>\n",
       "      <th>longitude</th>\n",
       "      <th>focal_depth_(km)</th>\n",
       "      <th>magnitude</th>\n",
       "      <th>country</th>\n",
       "      <th>magnitude_scale</th>\n",
       "      <th>month_name</th>\n",
       "    </tr>\n",
       "  </thead>\n",
       "  <tbody>\n",
       "    <tr>\n",
       "      <th>2718</th>\n",
       "      <td>2022</td>\n",
       "      <td>1</td>\n",
       "      <td>17</td>\n",
       "      <td>37.815</td>\n",
       "      <td>101.278</td>\n",
       "      <td>13.0</td>\n",
       "      <td>6.6</td>\n",
       "      <td>CHINA</td>\n",
       "      <td>severe damage</td>\n",
       "      <td>January</td>\n",
       "    </tr>\n",
       "    <tr>\n",
       "      <th>2719</th>\n",
       "      <td>2022</td>\n",
       "      <td>1</td>\n",
       "      <td>9</td>\n",
       "      <td>-6.929</td>\n",
       "      <td>105.251</td>\n",
       "      <td>37.0</td>\n",
       "      <td>6.6</td>\n",
       "      <td>INDONESIA</td>\n",
       "      <td>severe damage</td>\n",
       "      <td>January</td>\n",
       "    </tr>\n",
       "    <tr>\n",
       "      <th>2720</th>\n",
       "      <td>2022</td>\n",
       "      <td>1</td>\n",
       "      <td>11</td>\n",
       "      <td>34.946</td>\n",
       "      <td>63.580</td>\n",
       "      <td>18.0</td>\n",
       "      <td>5.3</td>\n",
       "      <td>AFGHANISTAN</td>\n",
       "      <td>minor damage</td>\n",
       "      <td>January</td>\n",
       "    </tr>\n",
       "    <tr>\n",
       "      <th>2721</th>\n",
       "      <td>2022</td>\n",
       "      <td>1</td>\n",
       "      <td>13</td>\n",
       "      <td>18.458</td>\n",
       "      <td>-73.337</td>\n",
       "      <td>10.0</td>\n",
       "      <td>5.3</td>\n",
       "      <td>HAITI</td>\n",
       "      <td>minor damage</td>\n",
       "      <td>January</td>\n",
       "    </tr>\n",
       "    <tr>\n",
       "      <th>2722</th>\n",
       "      <td>2022</td>\n",
       "      <td>1</td>\n",
       "      <td>2</td>\n",
       "      <td>-29.531</td>\n",
       "      <td>-176.749</td>\n",
       "      <td>10.0</td>\n",
       "      <td>6.5</td>\n",
       "      <td>NEW ZEALAND</td>\n",
       "      <td>severe damage</td>\n",
       "      <td>January</td>\n",
       "    </tr>\n",
       "  </tbody>\n",
       "</table>\n",
       "</div>"
      ],
      "text/plain": [
       "      year  month  hour  latitude  longitude  focal_depth_(km)  magnitude  \\\n",
       "2718  2022      1    17    37.815    101.278              13.0        6.6   \n",
       "2719  2022      1     9    -6.929    105.251              37.0        6.6   \n",
       "2720  2022      1    11    34.946     63.580              18.0        5.3   \n",
       "2721  2022      1    13    18.458    -73.337              10.0        5.3   \n",
       "2722  2022      1     2   -29.531   -176.749              10.0        6.5   \n",
       "\n",
       "          country magnitude_scale month_name  \n",
       "2718        CHINA   severe damage    January  \n",
       "2719    INDONESIA   severe damage    January  \n",
       "2720  AFGHANISTAN    minor damage    January  \n",
       "2721        HAITI    minor damage    January  \n",
       "2722  NEW ZEALAND   severe damage    January  "
      ]
     },
     "execution_count": 62,
     "metadata": {},
     "output_type": "execute_result"
    }
   ],
   "source": [
    "earthquake_2022 = earthquake_df[earthquake_df['year'] == 2022]\n",
    "\n",
    "earthquake_2022.head()"
   ]
  },
  {
   "cell_type": "code",
   "execution_count": 63,
   "id": "c120c247",
   "metadata": {
    "scrolled": true
   },
   "outputs": [
    {
     "data": {
      "image/png": "[encoded data removed]",
      "text/plain": [
       "<Figure size 864x360 with 1 Axes>"
      ]
     },
     "metadata": {
      "needs_background": "light"
     },
     "output_type": "display_data"
    }
   ],
   "source": [
    "color = sns.color_palette()[4]\n",
    "\n",
    "plt.figure(figsize=(12,5))\n",
    "sns.countplot(data=earthquake_2022, x='month_name',color=color)\n",
    "plt.title('Earthquake in the year 2022')\n",
    "plt.ylabel('')\n",
    "plt.xlabel('')\n",
    "plt.show()"
   ]
  },
  {
   "cell_type": "code",
   "execution_count": null,
   "id": "acb30532",
   "metadata": {},
   "outputs": [],
   "source": []
  },
  {
   "cell_type": "code",
   "execution_count": 64,
   "id": "241a009d",
   "metadata": {},
   "outputs": [],
   "source": [
    "top_affected_countries = earthquake_2022[earthquake_2022.country.isin(['CHINA','INDONESIA','PERU','MEXICO','AFGHANISTAN'])]"
   ]
  },
  {
   "cell_type": "code",
   "execution_count": 67,
   "id": "d3927b8a",
   "metadata": {},
   "outputs": [
    {
     "data": {
      "image/png": "[encoded data removed]",
      "text/plain": [
       "<Figure size 864x360 with 1 Axes>"
      ]
     },
     "metadata": {
      "needs_background": "light"
     },
     "output_type": "display_data"
    }
   ],
   "source": [
    "plt.figure(figsize=(12,5))\n",
    "sns.countplot(x='country', hue='magnitude_scale', data=top_affected_countries)\n",
    "plt.title('Earthquake occurrence in countries per magnitude scale', fontsize=20)\n",
    "plt.yticks([])\n",
    "plt.ylabel('')\n",
    "plt.xlabel('')\n",
    "plt.show()"
   ]
  },
  {
   "cell_type": "code",
   "execution_count": null,
   "id": "84987c9d",
   "metadata": {},
   "outputs": [],
   "source": []
  },
  {
   "cell_type": "markdown",
   "id": "c132186c",
   "metadata": {},
   "source": [
    "## Country with highest earthquake in 2022"
   ]
  },
  {
   "cell_type": "code",
   "execution_count": 8,
   "id": "ced4bd59",
   "metadata": {},
   "outputs": [
    {
     "data": {
      "image/png": "[encoded data removed]",
      "text/plain": [
       "<Figure size 720x576 with 1 Axes>"
      ]
     },
     "metadata": {
      "needs_background": "light"
     },
     "output_type": "display_data"
    }
   ],
   "source": [
    "plt.figure(figsize=(10,8))\n",
    "earthquake_2022.country.value_counts()[:5].plot(kind='barh').invert_yaxis()\n",
    "\n",
    "plt.xticks([])\n",
    "plt.title('Countries with the highest earthquake in 2022')\n",
    "plt.show()\n"
   ]
  },
  {
   "cell_type": "code",
   "execution_count": null,
   "id": "d6125f8a",
   "metadata": {},
   "outputs": [],
   "source": []
  },
  {
   "cell_type": "code",
   "execution_count": null,
   "id": "4622e6af",
   "metadata": {},
   "outputs": [],
   "source": []
  },
  {
   "cell_type": "code",
   "execution_count": null,
   "id": "4dcb17ed",
   "metadata": {},
   "outputs": [],
   "source": []
  },
  {
   "cell_type": "code",
   "execution_count": 9,
   "id": "8653dcfa",
   "metadata": {},
   "outputs": [
    {
     "data": {
      "image/png": "[encoded data removed]",
      "text/plain": [
       "<Figure size 432x288 with 1 Axes>"
      ]
     },
     "metadata": {
      "needs_background": "light"
     },
     "output_type": "display_data"
    }
   ],
   "source": [
    "earthquake_2022.magnitude_scale.value_counts().plot(kind='barh', fontsize=20).invert_yaxis()\n",
    "plt.xticks([])\n",
    "plt.show()"
   ]
  },
  {
   "cell_type": "code",
   "execution_count": null,
   "id": "07088ef3",
   "metadata": {},
   "outputs": [],
   "source": []
  }
 ],
 "metadata": {
  "kernelspec": {
   "display_name": "Python 3 (ipykernel)",
   "language": "python",
   "name": "python3"
  },
  "language_info": {
   "codemirror_mode": {
    "name": "ipython",
    "version": 3
   },
   "file_extension": ".py",
   "mimetype": "text/x-python",
   "name": "python",
   "nbconvert_exporter": "python",
   "pygments_lexer": "ipython3",
   "version": "3.9.9"
  }
 },
 "nbformat": 4,
 "nbformat_minor": 5
}
