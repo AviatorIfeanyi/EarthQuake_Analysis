{
 "cells": [
  {
   "cell_type": "code",
   "execution_count": 1,
   "id": "8fe0b28d-6560-45b1-9b64-868af67bd658",
   "metadata": {},
   "outputs": [],
   "source": [
    "import pandas as pd "
   ]
  },
  {
   "cell_type": "code",
   "execution_count": 2,
   "id": "5c4a54e5-304c-43e8-a38e-37128a988dcf",
   "metadata": {},
   "outputs": [],
   "source": [
    "earth_quake_df = pd.read_csv('../1_Data/earthquakes.tsv', delimiter='\\t')"
   ]
  },
  {
   "cell_type": "code",
   "execution_count": 3,
   "id": "f0128439-17f4-43aa-a33b-e1abea98e216",
   "metadata": {},
   "outputs": [],
   "source": [
    "earth_quake_df = earth_quake_df.loc[earth_quake_df.Year >= 1950, :]"
   ]
  },
  {
   "cell_type": "code",
   "execution_count": null,
   "id": "c55b679e",
   "metadata": {},
   "outputs": [],
   "source": []
  },
  {
   "cell_type": "code",
   "execution_count": 4,
   "id": "47b48249-3e11-4aed-8821-e3d73cb52e90",
   "metadata": {},
   "outputs": [
    {
     "data": {
      "text/html": [
       "<div>\n",
       "<style scoped>\n",
       "    .dataframe tbody tr th:only-of-type {\n",
       "        vertical-align: middle;\n",
       "    }\n",
       "\n",
       "    .dataframe tbody tr th {\n",
       "        vertical-align: top;\n",
       "    }\n",
       "\n",
       "    .dataframe thead th {\n",
       "        text-align: right;\n",
       "    }\n",
       "</style>\n",
       "<table border=\"1\" class=\"dataframe\">\n",
       "  <thead>\n",
       "    <tr style=\"text-align: right;\">\n",
       "      <th></th>\n",
       "      <th>Search Parameters</th>\n",
       "      <th>Year</th>\n",
       "      <th>Mo</th>\n",
       "      <th>Dy</th>\n",
       "      <th>Hr</th>\n",
       "      <th>Mn</th>\n",
       "      <th>Sec</th>\n",
       "      <th>Tsu</th>\n",
       "      <th>Vol</th>\n",
       "      <th>Location Name</th>\n",
       "      <th>...</th>\n",
       "      <th>Total Missing</th>\n",
       "      <th>Total Missing Description</th>\n",
       "      <th>Total Injuries</th>\n",
       "      <th>Total Injuries Description</th>\n",
       "      <th>Total Damage ($Mil)</th>\n",
       "      <th>Total Damage Description</th>\n",
       "      <th>Total Houses Destroyed</th>\n",
       "      <th>Total Houses Destroyed Description</th>\n",
       "      <th>Total Houses Damaged</th>\n",
       "      <th>Total Houses Damaged Description</th>\n",
       "    </tr>\n",
       "  </thead>\n",
       "  <tbody>\n",
       "    <tr>\n",
       "      <th>3586</th>\n",
       "      <td>NaN</td>\n",
       "      <td>1950.0</td>\n",
       "      <td>1.0</td>\n",
       "      <td>19.0</td>\n",
       "      <td>17.0</td>\n",
       "      <td>27.0</td>\n",
       "      <td>20.9</td>\n",
       "      <td>NaN</td>\n",
       "      <td>NaN</td>\n",
       "      <td>IRAN: BUSHIRE</td>\n",
       "      <td>...</td>\n",
       "      <td>NaN</td>\n",
       "      <td>NaN</td>\n",
       "      <td>NaN</td>\n",
       "      <td>NaN</td>\n",
       "      <td>NaN</td>\n",
       "      <td>3.0</td>\n",
       "      <td>NaN</td>\n",
       "      <td>NaN</td>\n",
       "      <td>NaN</td>\n",
       "      <td>NaN</td>\n",
       "    </tr>\n",
       "    <tr>\n",
       "      <th>3587</th>\n",
       "      <td>NaN</td>\n",
       "      <td>1950.0</td>\n",
       "      <td>1.0</td>\n",
       "      <td>30.0</td>\n",
       "      <td>0.0</td>\n",
       "      <td>56.0</td>\n",
       "      <td>32.0</td>\n",
       "      <td>1803.0</td>\n",
       "      <td>NaN</td>\n",
       "      <td>CHILE:  SOUTHERN</td>\n",
       "      <td>...</td>\n",
       "      <td>NaN</td>\n",
       "      <td>NaN</td>\n",
       "      <td>NaN</td>\n",
       "      <td>NaN</td>\n",
       "      <td>NaN</td>\n",
       "      <td>NaN</td>\n",
       "      <td>NaN</td>\n",
       "      <td>NaN</td>\n",
       "      <td>NaN</td>\n",
       "      <td>NaN</td>\n",
       "    </tr>\n",
       "    <tr>\n",
       "      <th>3588</th>\n",
       "      <td>NaN</td>\n",
       "      <td>1950.0</td>\n",
       "      <td>2.0</td>\n",
       "      <td>2.0</td>\n",
       "      <td>19.0</td>\n",
       "      <td>33.0</td>\n",
       "      <td>39.0</td>\n",
       "      <td>NaN</td>\n",
       "      <td>NaN</td>\n",
       "      <td>CHINA:  YUNNAN PROVINCE</td>\n",
       "      <td>...</td>\n",
       "      <td>NaN</td>\n",
       "      <td>NaN</td>\n",
       "      <td>NaN</td>\n",
       "      <td>NaN</td>\n",
       "      <td>NaN</td>\n",
       "      <td>1.0</td>\n",
       "      <td>NaN</td>\n",
       "      <td>NaN</td>\n",
       "      <td>NaN</td>\n",
       "      <td>NaN</td>\n",
       "    </tr>\n",
       "    <tr>\n",
       "      <th>3589</th>\n",
       "      <td>NaN</td>\n",
       "      <td>1950.0</td>\n",
       "      <td>2.0</td>\n",
       "      <td>4.0</td>\n",
       "      <td>9.0</td>\n",
       "      <td>31.0</td>\n",
       "      <td>0.0</td>\n",
       "      <td>NaN</td>\n",
       "      <td>NaN</td>\n",
       "      <td>TURKEY</td>\n",
       "      <td>...</td>\n",
       "      <td>NaN</td>\n",
       "      <td>NaN</td>\n",
       "      <td>NaN</td>\n",
       "      <td>NaN</td>\n",
       "      <td>NaN</td>\n",
       "      <td>NaN</td>\n",
       "      <td>NaN</td>\n",
       "      <td>NaN</td>\n",
       "      <td>NaN</td>\n",
       "      <td>NaN</td>\n",
       "    </tr>\n",
       "    <tr>\n",
       "      <th>3590</th>\n",
       "      <td>NaN</td>\n",
       "      <td>1950.0</td>\n",
       "      <td>2.0</td>\n",
       "      <td>28.0</td>\n",
       "      <td>10.0</td>\n",
       "      <td>20.0</td>\n",
       "      <td>0.0</td>\n",
       "      <td>NaN</td>\n",
       "      <td>NaN</td>\n",
       "      <td>RUSSIA:  SEA OF OKHOTSK</td>\n",
       "      <td>...</td>\n",
       "      <td>NaN</td>\n",
       "      <td>NaN</td>\n",
       "      <td>NaN</td>\n",
       "      <td>NaN</td>\n",
       "      <td>NaN</td>\n",
       "      <td>NaN</td>\n",
       "      <td>NaN</td>\n",
       "      <td>NaN</td>\n",
       "      <td>NaN</td>\n",
       "      <td>NaN</td>\n",
       "    </tr>\n",
       "  </tbody>\n",
       "</table>\n",
       "<p>5 rows × 39 columns</p>\n",
       "</div>"
      ],
      "text/plain": [
       "     Search Parameters    Year   Mo    Dy    Hr    Mn   Sec     Tsu  Vol  \\\n",
       "3586               NaN  1950.0  1.0  19.0  17.0  27.0  20.9     NaN  NaN   \n",
       "3587               NaN  1950.0  1.0  30.0   0.0  56.0  32.0  1803.0  NaN   \n",
       "3588               NaN  1950.0  2.0   2.0  19.0  33.0  39.0     NaN  NaN   \n",
       "3589               NaN  1950.0  2.0   4.0   9.0  31.0   0.0     NaN  NaN   \n",
       "3590               NaN  1950.0  2.0  28.0  10.0  20.0   0.0     NaN  NaN   \n",
       "\n",
       "                Location Name  ...  Total Missing  Total Missing Description  \\\n",
       "3586            IRAN: BUSHIRE  ...            NaN                        NaN   \n",
       "3587         CHILE:  SOUTHERN  ...            NaN                        NaN   \n",
       "3588  CHINA:  YUNNAN PROVINCE  ...            NaN                        NaN   \n",
       "3589                   TURKEY  ...            NaN                        NaN   \n",
       "3590  RUSSIA:  SEA OF OKHOTSK  ...            NaN                        NaN   \n",
       "\n",
       "      Total Injuries  Total Injuries Description  Total Damage ($Mil)  \\\n",
       "3586             NaN                         NaN                  NaN   \n",
       "3587             NaN                         NaN                  NaN   \n",
       "3588             NaN                         NaN                  NaN   \n",
       "3589             NaN                         NaN                  NaN   \n",
       "3590             NaN                         NaN                  NaN   \n",
       "\n",
       "      Total Damage Description  Total Houses Destroyed  \\\n",
       "3586                       3.0                     NaN   \n",
       "3587                       NaN                     NaN   \n",
       "3588                       1.0                     NaN   \n",
       "3589                       NaN                     NaN   \n",
       "3590                       NaN                     NaN   \n",
       "\n",
       "      Total Houses Destroyed Description  Total Houses Damaged  \\\n",
       "3586                                 NaN                   NaN   \n",
       "3587                                 NaN                   NaN   \n",
       "3588                                 NaN                   NaN   \n",
       "3589                                 NaN                   NaN   \n",
       "3590                                 NaN                   NaN   \n",
       "\n",
       "      Total Houses Damaged Description  \n",
       "3586                               NaN  \n",
       "3587                               NaN  \n",
       "3588                               NaN  \n",
       "3589                               NaN  \n",
       "3590                               NaN  \n",
       "\n",
       "[5 rows x 39 columns]"
      ]
     },
     "execution_count": 4,
     "metadata": {},
     "output_type": "execute_result"
    }
   ],
   "source": [
    "earth_quake_df.head()"
   ]
  },
  {
   "cell_type": "code",
   "execution_count": null,
   "id": "6395dbb7-6863-44fc-8910-58a8ab83dbd4",
   "metadata": {},
   "outputs": [],
   "source": []
  },
  {
   "cell_type": "code",
   "execution_count": 5,
   "id": "560a3221-792b-47dc-8dc3-f50b15b484d8",
   "metadata": {},
   "outputs": [
    {
     "name": "stdout",
     "output_type": "stream",
     "text": [
      "<class 'pandas.core.frame.DataFrame'>\n",
      "Int64Index: 2756 entries, 3586 to 6341\n",
      "Data columns (total 39 columns):\n",
      " #   Column                              Non-Null Count  Dtype  \n",
      "---  ------                              --------------  -----  \n",
      " 0   Search Parameters                   0 non-null      object \n",
      " 1   Year                                2756 non-null   float64\n",
      " 2   Mo                                  2756 non-null   float64\n",
      " 3   Dy                                  2754 non-null   float64\n",
      " 4   Hr                                  2722 non-null   float64\n",
      " 5   Mn                                  2716 non-null   float64\n",
      " 6   Sec                                 2725 non-null   float64\n",
      " 7   Tsu                                 692 non-null    float64\n",
      " 8   Vol                                 24 non-null     float64\n",
      " 9   Location Name                       2756 non-null   object \n",
      " 10  Latitude                            2755 non-null   float64\n",
      " 11  Longitude                           2755 non-null   float64\n",
      " 12  Focal Depth (km)                    2569 non-null   float64\n",
      " 13  Mag                                 2687 non-null   float64\n",
      " 14  MMI Int                             1094 non-null   float64\n",
      " 15  Deaths                              1188 non-null   float64\n",
      " 16  Death Description                   1222 non-null   float64\n",
      " 17  Missing                             24 non-null     float64\n",
      " 18  Missing Description                 23 non-null     float64\n",
      " 19  Injuries                            1186 non-null   float64\n",
      " 20  Injuries Description                1324 non-null   float64\n",
      " 21  Damage ($Mil)                       490 non-null    float64\n",
      " 22  Damage Description                  2212 non-null   float64\n",
      " 23  Houses Destroyed                    601 non-null    float64\n",
      " 24  Houses Destroyed Description        896 non-null    float64\n",
      " 25  Houses Damaged                      487 non-null    float64\n",
      " 26  Houses Damaged Description          807 non-null    float64\n",
      " 27  Total Deaths                        1145 non-null   float64\n",
      " 28  Total Death Description             1174 non-null   float64\n",
      " 29  Total Missing                       26 non-null     float64\n",
      " 30  Total Missing Description           28 non-null     float64\n",
      " 31  Total Injuries                      1195 non-null   float64\n",
      " 32  Total Injuries Description          1334 non-null   float64\n",
      " 33  Total Damage ($Mil)                 475 non-null    float64\n",
      " 34  Total Damage Description            2020 non-null   float64\n",
      " 35  Total Houses Destroyed              610 non-null    float64\n",
      " 36  Total Houses Destroyed Description  916 non-null    float64\n",
      " 37  Total Houses Damaged                450 non-null    float64\n",
      " 38  Total Houses Damaged Description    757 non-null    float64\n",
      "dtypes: float64(37), object(2)\n",
      "memory usage: 861.2+ KB\n"
     ]
    }
   ],
   "source": [
    "earth_quake_df.info()"
   ]
  },
  {
   "cell_type": "code",
   "execution_count": 6,
   "id": "53299a5c-d15c-4a13-b450-0c587cfe63e2",
   "metadata": {},
   "outputs": [
    {
     "data": {
      "text/plain": [
       "Index(['Search Parameters', 'Year', 'Mo', 'Dy', 'Hr', 'Mn', 'Sec', 'Tsu',\n",
       "       'Vol', 'Location Name', 'Latitude', 'Longitude', 'Focal Depth (km)',\n",
       "       'Mag', 'MMI Int', 'Deaths', 'Death Description', 'Missing',\n",
       "       'Missing Description', 'Injuries', 'Injuries Description',\n",
       "       'Damage ($Mil)', 'Damage Description', 'Houses Destroyed',\n",
       "       'Houses Destroyed Description', 'Houses Damaged',\n",
       "       'Houses Damaged Description', 'Total Deaths', 'Total Death Description',\n",
       "       'Total Missing', 'Total Missing Description', 'Total Injuries',\n",
       "       'Total Injuries Description', 'Total Damage ($Mil)',\n",
       "       'Total Damage Description', 'Total Houses Destroyed',\n",
       "       'Total Houses Destroyed Description', 'Total Houses Damaged',\n",
       "       'Total Houses Damaged Description'],\n",
       "      dtype='object')"
      ]
     },
     "execution_count": 6,
     "metadata": {},
     "output_type": "execute_result"
    }
   ],
   "source": [
    "earth_quake_df.columns"
   ]
  },
  {
   "cell_type": "code",
   "execution_count": null,
   "id": "5eb256f2-f6d8-4315-9d7d-00b710be0c30",
   "metadata": {},
   "outputs": [],
   "source": []
  },
  {
   "cell_type": "code",
   "execution_count": null,
   "id": "1d4f48c4",
   "metadata": {},
   "outputs": [],
   "source": []
  },
  {
   "cell_type": "markdown",
   "id": "d14c7ab8",
   "metadata": {},
   "source": [
    "## Data Cleaning Observations"
   ]
  },
  {
   "cell_type": "markdown",
   "id": "fc091722",
   "metadata": {},
   "source": [
    "### Mn, Sec, Tsu, Vol,Dy, MMI Int, Deaths, Death Description, Missing, Missing Description, Injuries, Injuries Description, Damage, \n",
    "### Damage Description, Houses Destroyed,Houses Destroyed Description, Houses Damaged, Houses Damaged Description, Total Deaths, \n",
    "### Total Death Description, Total Missing, Total Missing Description,  Total Injuries, Total Injuries Description,Total Damage (Mil), \n",
    "### Total Damage Description, Total Houses Destroyed, Total Houses Destroyed Description, Total Houses Damaged, Total Houses Damaged Description\n",
    "\n",
    "##### ------------------------------------------------------------------------------------------------------------------------------------------------------------------------------------------\n",
    "\n",
    "### 1 All the above mentioned columns will be dropped, as they do not contain enough information for analysis"
   ]
  },
  {
   "cell_type": "markdown",
   "id": "0c76ab3e",
   "metadata": {},
   "source": [
    "### - Rename Mo and Hr columns to a descriptive name namely Month and Hour\n",
    "### - Convert Year, Mo and Hr columns to object data types\n",
    "### - Extract the country name from location name column\n",
    "### - Drop the location name column\n",
    "### - Fill-in null values with zeros (0)\n",
    "### - index column values are disorganised.  "
   ]
  },
  {
   "cell_type": "code",
   "execution_count": null,
   "id": "32d60038",
   "metadata": {},
   "outputs": [],
   "source": []
  },
  {
   "cell_type": "markdown",
   "id": "0a82bc16",
   "metadata": {},
   "source": [
    "## Data Cleaning"
   ]
  },
  {
   "cell_type": "code",
   "execution_count": 7,
   "id": "e1c74ea6",
   "metadata": {},
   "outputs": [],
   "source": [
    "earth_quake_df_clean = earth_quake_df.copy()"
   ]
  },
  {
   "cell_type": "code",
   "execution_count": null,
   "id": "8dc3e052",
   "metadata": {},
   "outputs": [],
   "source": []
  },
  {
   "cell_type": "code",
   "execution_count": null,
   "id": "0c55dc3a",
   "metadata": {},
   "outputs": [],
   "source": []
  },
  {
   "cell_type": "markdown",
   "id": "ad16d5f1",
   "metadata": {},
   "source": [
    "### Drop all columns not relevant for analysis"
   ]
  },
  {
   "cell_type": "markdown",
   "id": "09202e5c",
   "metadata": {},
   "source": [
    "### Define"
   ]
  },
  {
   "cell_type": "markdown",
   "id": "17417838",
   "metadata": {},
   "source": [
    "### remove identified unnecessary columns using the drop method"
   ]
  },
  {
   "cell_type": "code",
   "execution_count": null,
   "id": "02f294cc",
   "metadata": {},
   "outputs": [],
   "source": []
  },
  {
   "cell_type": "markdown",
   "id": "b5284466",
   "metadata": {},
   "source": [
    "### Code"
   ]
  },
  {
   "cell_type": "code",
   "execution_count": 8,
   "id": "0e7e8cd1",
   "metadata": {},
   "outputs": [],
   "source": [
    "earth_quake_df_clean.drop(['Search Parameters', 'Mn','Sec', 'Tsu', 'Vol','Dy','MMI Int', 'Deaths', 'Death Description', \n",
    "                      'Missing', 'Missing Description', 'Injuries', 'Injuries Description', 'Damage ($Mil)', \n",
    "                      'Damage Description', 'Houses Destroyed','Houses Destroyed Description', 'Houses Damaged', \n",
    "                      'Houses Damaged Description', \n",
    "                      'Total Deaths','Total Death Description', 'Total Missing',\n",
    "                      'Total Missing Description','Total Injuries', 'Total Injuries Description',\n",
    "                      'Total Damage ($Mil)', 'Total Damage Description', 'Total Houses Destroyed', \n",
    "                      'Total Houses Destroyed Description', 'Total Houses Damaged',\n",
    "                      'Total Houses Damaged Description'], axis=1,inplace=True)"
   ]
  },
  {
   "cell_type": "code",
   "execution_count": null,
   "id": "a294d03c",
   "metadata": {},
   "outputs": [],
   "source": []
  },
  {
   "cell_type": "markdown",
   "id": "9ae57c34",
   "metadata": {},
   "source": [
    "### Test"
   ]
  },
  {
   "cell_type": "code",
   "execution_count": 9,
   "id": "fb3c7940",
   "metadata": {},
   "outputs": [
    {
     "data": {
      "text/plain": [
       "Index(['Year', 'Mo', 'Hr', 'Location Name', 'Latitude', 'Longitude',\n",
       "       'Focal Depth (km)', 'Mag'],\n",
       "      dtype='object')"
      ]
     },
     "execution_count": 9,
     "metadata": {},
     "output_type": "execute_result"
    }
   ],
   "source": [
    "earth_quake_df_clean.columns"
   ]
  },
  {
   "cell_type": "code",
   "execution_count": null,
   "id": "94641c83",
   "metadata": {},
   "outputs": [],
   "source": []
  },
  {
   "cell_type": "markdown",
   "id": "5e3729f9",
   "metadata": {},
   "source": [
    "###  column names to lowercase"
   ]
  },
  {
   "cell_type": "markdown",
   "id": "84f0809f",
   "metadata": {},
   "source": [
    "### Define"
   ]
  },
  {
   "cell_type": "markdown",
   "id": "b8457adc",
   "metadata": {},
   "source": [
    "### Convert column names to lowercase"
   ]
  },
  {
   "cell_type": "code",
   "execution_count": null,
   "id": "48b2c8cc",
   "metadata": {},
   "outputs": [],
   "source": []
  },
  {
   "cell_type": "markdown",
   "id": "a5f60640",
   "metadata": {},
   "source": [
    "### Code"
   ]
  },
  {
   "cell_type": "code",
   "execution_count": 10,
   "id": "97d22b51",
   "metadata": {},
   "outputs": [],
   "source": [
    "earth_quake_df_clean.columns = earth_quake_df_clean.columns.str.lower()"
   ]
  },
  {
   "cell_type": "code",
   "execution_count": null,
   "id": "7c7daf65",
   "metadata": {},
   "outputs": [],
   "source": []
  },
  {
   "cell_type": "markdown",
   "id": "f2734adf",
   "metadata": {},
   "source": [
    "### Test"
   ]
  },
  {
   "cell_type": "code",
   "execution_count": 11,
   "id": "a83d33d7",
   "metadata": {},
   "outputs": [
    {
     "data": {
      "text/plain": [
       "Index(['year', 'mo', 'hr', 'location name', 'latitude', 'longitude',\n",
       "       'focal depth (km)', 'mag'],\n",
       "      dtype='object')"
      ]
     },
     "execution_count": 11,
     "metadata": {},
     "output_type": "execute_result"
    }
   ],
   "source": [
    "earth_quake_df_clean.columns"
   ]
  },
  {
   "cell_type": "code",
   "execution_count": null,
   "id": "5e0f44da",
   "metadata": {},
   "outputs": [],
   "source": []
  },
  {
   "cell_type": "markdown",
   "id": "20b30e95",
   "metadata": {},
   "source": [
    "### Spaces in-between column names should be removed"
   ]
  },
  {
   "cell_type": "markdown",
   "id": "91cf5a3d",
   "metadata": {},
   "source": [
    "### Define"
   ]
  },
  {
   "cell_type": "markdown",
   "id": "fa0fd533",
   "metadata": {},
   "source": [
    "### Replace spaces in-between column names with an underscore"
   ]
  },
  {
   "cell_type": "code",
   "execution_count": null,
   "id": "5658c073",
   "metadata": {},
   "outputs": [],
   "source": []
  },
  {
   "cell_type": "markdown",
   "id": "4ec0cc3a",
   "metadata": {},
   "source": [
    "### Code"
   ]
  },
  {
   "cell_type": "code",
   "execution_count": 12,
   "id": "6cc4ea9f",
   "metadata": {},
   "outputs": [],
   "source": [
    "earth_quake_df_clean.columns = earth_quake_df_clean.columns.str.replace(' ', '_')"
   ]
  },
  {
   "cell_type": "code",
   "execution_count": null,
   "id": "b47fc327",
   "metadata": {},
   "outputs": [],
   "source": []
  },
  {
   "cell_type": "markdown",
   "id": "aa99d6fc",
   "metadata": {},
   "source": [
    "### Test"
   ]
  },
  {
   "cell_type": "code",
   "execution_count": 13,
   "id": "9745ce5c",
   "metadata": {},
   "outputs": [
    {
     "data": {
      "text/plain": [
       "Index(['year', 'mo', 'hr', 'location_name', 'latitude', 'longitude',\n",
       "       'focal_depth_(km)', 'mag'],\n",
       "      dtype='object')"
      ]
     },
     "execution_count": 13,
     "metadata": {},
     "output_type": "execute_result"
    }
   ],
   "source": [
    "earth_quake_df_clean.columns"
   ]
  },
  {
   "cell_type": "code",
   "execution_count": null,
   "id": "692605f6",
   "metadata": {},
   "outputs": [],
   "source": []
  },
  {
   "cell_type": "markdown",
   "id": "51b90a07",
   "metadata": {},
   "source": [
    "###  Mo and Hr columns should have descriptive names namely Month and Hour\n"
   ]
  },
  {
   "cell_type": "markdown",
   "id": "b04bc3cf",
   "metadata": {},
   "source": [
    "### Define"
   ]
  },
  {
   "cell_type": "markdown",
   "id": "32f7fd95",
   "metadata": {},
   "source": [
    "### Rename the Mo and Hr columns using rename() method"
   ]
  },
  {
   "cell_type": "code",
   "execution_count": null,
   "id": "3c245a9b",
   "metadata": {},
   "outputs": [],
   "source": []
  },
  {
   "cell_type": "markdown",
   "id": "4ae28bfe",
   "metadata": {},
   "source": [
    "### Code"
   ]
  },
  {
   "cell_type": "code",
   "execution_count": 14,
   "id": "24c66479",
   "metadata": {},
   "outputs": [],
   "source": [
    "earth_quake_df_clean.rename(columns = {'mo':'month', 'hr':'hour','mag':'magnitude'}, inplace=True)"
   ]
  },
  {
   "cell_type": "code",
   "execution_count": null,
   "id": "cec291a8",
   "metadata": {},
   "outputs": [],
   "source": []
  },
  {
   "cell_type": "markdown",
   "id": "558ee03b",
   "metadata": {},
   "source": [
    "### Test"
   ]
  },
  {
   "cell_type": "code",
   "execution_count": 15,
   "id": "d9a29656",
   "metadata": {},
   "outputs": [
    {
     "data": {
      "text/plain": [
       "Index(['year', 'month', 'hour', 'location_name', 'latitude', 'longitude',\n",
       "       'focal_depth_(km)', 'magnitude'],\n",
       "      dtype='object')"
      ]
     },
     "execution_count": 15,
     "metadata": {},
     "output_type": "execute_result"
    }
   ],
   "source": [
    "earth_quake_df_clean.columns"
   ]
  },
  {
   "cell_type": "code",
   "execution_count": null,
   "id": "3c00baa3",
   "metadata": {},
   "outputs": [],
   "source": []
  },
  {
   "cell_type": "markdown",
   "id": "7351ab6e",
   "metadata": {},
   "source": [
    "### Fill-in null values with zeros (0)"
   ]
  },
  {
   "cell_type": "markdown",
   "id": "87b9558b",
   "metadata": {},
   "source": [
    "### Define"
   ]
  },
  {
   "cell_type": "markdown",
   "id": "b6f4f0c8",
   "metadata": {},
   "source": [
    "### Substitute null values with Zeros (0) using fillna method"
   ]
  },
  {
   "cell_type": "code",
   "execution_count": null,
   "id": "30816244",
   "metadata": {},
   "outputs": [],
   "source": []
  },
  {
   "cell_type": "markdown",
   "id": "edf30fc0",
   "metadata": {},
   "source": [
    "### Code"
   ]
  },
  {
   "cell_type": "code",
   "execution_count": 16,
   "id": "b56c45da",
   "metadata": {},
   "outputs": [
    {
     "data": {
      "text/plain": [
       "year                  0\n",
       "month                 0\n",
       "hour                 34\n",
       "location_name         0\n",
       "latitude              1\n",
       "longitude             1\n",
       "focal_depth_(km)    187\n",
       "magnitude            69\n",
       "dtype: int64"
      ]
     },
     "execution_count": 16,
     "metadata": {},
     "output_type": "execute_result"
    }
   ],
   "source": [
    "earth_quake_df_clean.isnull().sum()"
   ]
  },
  {
   "cell_type": "code",
   "execution_count": 17,
   "id": "515da237",
   "metadata": {},
   "outputs": [],
   "source": [
    "earth_quake_df_clean.fillna(0, inplace=True)"
   ]
  },
  {
   "cell_type": "code",
   "execution_count": null,
   "id": "6ac70c40",
   "metadata": {},
   "outputs": [],
   "source": []
  },
  {
   "cell_type": "markdown",
   "id": "44906e2f",
   "metadata": {},
   "source": [
    "### Test"
   ]
  },
  {
   "cell_type": "code",
   "execution_count": 18,
   "id": "965178dc",
   "metadata": {},
   "outputs": [
    {
     "data": {
      "text/plain": [
       "year                0\n",
       "month               0\n",
       "hour                0\n",
       "location_name       0\n",
       "latitude            0\n",
       "longitude           0\n",
       "focal_depth_(km)    0\n",
       "magnitude           0\n",
       "dtype: int64"
      ]
     },
     "execution_count": 18,
     "metadata": {},
     "output_type": "execute_result"
    }
   ],
   "source": [
    "earth_quake_df_clean.isnull().sum()"
   ]
  },
  {
   "cell_type": "code",
   "execution_count": null,
   "id": "e10a1ccf",
   "metadata": {},
   "outputs": [],
   "source": []
  },
  {
   "cell_type": "code",
   "execution_count": null,
   "id": "d930c279",
   "metadata": {},
   "outputs": [],
   "source": []
  },
  {
   "cell_type": "markdown",
   "id": "fb36c965",
   "metadata": {},
   "source": [
    "### Convert Year, Month and Hour columns to integer data types\n"
   ]
  },
  {
   "cell_type": "markdown",
   "id": "4146bb0e",
   "metadata": {},
   "source": [
    "### Define"
   ]
  },
  {
   "cell_type": "markdown",
   "id": "90b2bdaa",
   "metadata": {},
   "source": [
    "### Modify the data types of the identified columns using the astype method"
   ]
  },
  {
   "cell_type": "code",
   "execution_count": null,
   "id": "aa762ea0",
   "metadata": {},
   "outputs": [],
   "source": []
  },
  {
   "cell_type": "markdown",
   "id": "fd20b08d",
   "metadata": {},
   "source": [
    "### Code"
   ]
  },
  {
   "cell_type": "code",
   "execution_count": 19,
   "id": "a87faaea",
   "metadata": {},
   "outputs": [],
   "source": [
    "earth_quake_df_clean[['year', 'month', 'hour']] = earth_quake_df_clean[['year', 'month', 'hour']].astype(int)"
   ]
  },
  {
   "cell_type": "code",
   "execution_count": null,
   "id": "63dae6c3",
   "metadata": {},
   "outputs": [],
   "source": []
  },
  {
   "cell_type": "markdown",
   "id": "980b0480",
   "metadata": {},
   "source": [
    "### Test"
   ]
  },
  {
   "cell_type": "code",
   "execution_count": 20,
   "id": "6cd74e9c",
   "metadata": {},
   "outputs": [
    {
     "data": {
      "text/plain": [
       "year     int32\n",
       "month    int32\n",
       "hour     int32\n",
       "dtype: object"
      ]
     },
     "execution_count": 20,
     "metadata": {},
     "output_type": "execute_result"
    }
   ],
   "source": [
    "earth_quake_df_clean[['year', 'month', 'hour']].dtypes"
   ]
  },
  {
   "cell_type": "code",
   "execution_count": null,
   "id": "a46681a0",
   "metadata": {},
   "outputs": [],
   "source": []
  },
  {
   "cell_type": "markdown",
   "id": "a7ca6a92",
   "metadata": {},
   "source": [
    "###  Extract the country name from location name column\n"
   ]
  },
  {
   "cell_type": "markdown",
   "id": "81815590",
   "metadata": {},
   "source": [
    "### Define"
   ]
  },
  {
   "cell_type": "markdown",
   "id": "1612ab6c",
   "metadata": {},
   "source": [
    "### extract the country name from location name using str.split() method"
   ]
  },
  {
   "cell_type": "code",
   "execution_count": null,
   "id": "cb82f27f",
   "metadata": {},
   "outputs": [],
   "source": []
  },
  {
   "cell_type": "markdown",
   "id": "26fc617d",
   "metadata": {},
   "source": [
    "### Code"
   ]
  },
  {
   "cell_type": "code",
   "execution_count": 21,
   "id": "a06faf1a",
   "metadata": {},
   "outputs": [],
   "source": [
    "earth_quake_df_clean['country'] = earth_quake_df_clean['location_name'].str.split(':').str[0]"
   ]
  },
  {
   "cell_type": "code",
   "execution_count": null,
   "id": "996ccb51",
   "metadata": {},
   "outputs": [],
   "source": []
  },
  {
   "cell_type": "markdown",
   "id": "bdbf09e8",
   "metadata": {},
   "source": [
    "### Test"
   ]
  },
  {
   "cell_type": "code",
   "execution_count": 22,
   "id": "1842400e",
   "metadata": {},
   "outputs": [
    {
     "data": {
      "text/plain": [
       "CHINA                     286\n",
       "INDONESIA                 227\n",
       "IRAN                      189\n",
       "JAPAN                     157\n",
       "TURKEY                    113\n",
       "                         ... \n",
       "CANADA; MAINE               1\n",
       "VENEZUELA-N COLOMBIA        1\n",
       "HONDURAS;  N GUATEMALA      1\n",
       "MONTENEGRO                  1\n",
       "ALASKA PENINSULA            1\n",
       "Name: country, Length: 221, dtype: int64"
      ]
     },
     "execution_count": 22,
     "metadata": {},
     "output_type": "execute_result"
    }
   ],
   "source": [
    "earth_quake_df_clean.country.value_counts()"
   ]
  },
  {
   "cell_type": "code",
   "execution_count": null,
   "id": "bfb32266",
   "metadata": {},
   "outputs": [],
   "source": []
  },
  {
   "cell_type": "markdown",
   "id": "e115b69b",
   "metadata": {},
   "source": [
    "###  location name column should be removed"
   ]
  },
  {
   "cell_type": "markdown",
   "id": "6aff4b57",
   "metadata": {},
   "source": [
    "### Define"
   ]
  },
  {
   "cell_type": "markdown",
   "id": "74b81c81",
   "metadata": {},
   "source": [
    "### Remove the location name column using the drop() method"
   ]
  },
  {
   "cell_type": "code",
   "execution_count": null,
   "id": "2932180e",
   "metadata": {},
   "outputs": [],
   "source": []
  },
  {
   "cell_type": "markdown",
   "id": "26f2a8ce",
   "metadata": {},
   "source": [
    "### Code"
   ]
  },
  {
   "cell_type": "code",
   "execution_count": 23,
   "id": "d9b96c6e",
   "metadata": {},
   "outputs": [],
   "source": [
    "earth_quake_df_clean.drop(['location_name'], axis=1, inplace=True)"
   ]
  },
  {
   "cell_type": "code",
   "execution_count": null,
   "id": "cbaa3610",
   "metadata": {},
   "outputs": [],
   "source": []
  },
  {
   "cell_type": "markdown",
   "id": "f5cb2173",
   "metadata": {},
   "source": [
    "### Test"
   ]
  },
  {
   "cell_type": "code",
   "execution_count": 24,
   "id": "d8ddef19",
   "metadata": {},
   "outputs": [
    {
     "data": {
      "text/plain": [
       "Index(['year', 'month', 'hour', 'latitude', 'longitude', 'focal_depth_(km)',\n",
       "       'magnitude', 'country'],\n",
       "      dtype='object')"
      ]
     },
     "execution_count": 24,
     "metadata": {},
     "output_type": "execute_result"
    }
   ],
   "source": [
    "earth_quake_df_clean.columns"
   ]
  },
  {
   "cell_type": "code",
   "execution_count": null,
   "id": "9eab3c3d",
   "metadata": {},
   "outputs": [],
   "source": []
  },
  {
   "cell_type": "code",
   "execution_count": null,
   "id": "8417c856",
   "metadata": {},
   "outputs": [],
   "source": []
  },
  {
   "cell_type": "markdown",
   "id": "0df3ed5c",
   "metadata": {},
   "source": [
    "###  index column values are disorganised.  "
   ]
  },
  {
   "cell_type": "markdown",
   "id": "69b7276f",
   "metadata": {},
   "source": [
    "### Define"
   ]
  },
  {
   "cell_type": "markdown",
   "id": "114ff363",
   "metadata": {},
   "source": [
    "### Replace the index column values to a sorted numeric values"
   ]
  },
  {
   "cell_type": "code",
   "execution_count": null,
   "id": "ac4e3039",
   "metadata": {},
   "outputs": [],
   "source": []
  },
  {
   "cell_type": "markdown",
   "id": "1dbcd9f4",
   "metadata": {},
   "source": [
    "### Code"
   ]
  },
  {
   "cell_type": "code",
   "execution_count": 25,
   "id": "ee8109d3",
   "metadata": {},
   "outputs": [
    {
     "data": {
      "text/plain": [
       "Int64Index([3586, 3587, 3588, 3589, 3590, 3591, 3592, 3593, 3594, 3595,\n",
       "            ...\n",
       "            6332, 6333, 6334, 6335, 6336, 6337, 6338, 6339, 6340, 6341],\n",
       "           dtype='int64', length=2756)"
      ]
     },
     "execution_count": 25,
     "metadata": {},
     "output_type": "execute_result"
    }
   ],
   "source": [
    "earth_quake_df_clean.index"
   ]
  },
  {
   "cell_type": "code",
   "execution_count": 26,
   "id": "3e59be04",
   "metadata": {},
   "outputs": [],
   "source": [
    "earth_quake_df_clean.index = range(1, len(earth_quake_df_clean) + 1)"
   ]
  },
  {
   "cell_type": "code",
   "execution_count": null,
   "id": "7d040410",
   "metadata": {},
   "outputs": [],
   "source": []
  },
  {
   "cell_type": "markdown",
   "id": "befb3710",
   "metadata": {},
   "source": [
    "### Test"
   ]
  },
  {
   "cell_type": "code",
   "execution_count": 27,
   "id": "8b56270f",
   "metadata": {},
   "outputs": [
    {
     "data": {
      "text/plain": [
       "RangeIndex(start=1, stop=2757, step=1)"
      ]
     },
     "execution_count": 27,
     "metadata": {},
     "output_type": "execute_result"
    }
   ],
   "source": [
    "earth_quake_df_clean.index"
   ]
  },
  {
   "cell_type": "code",
   "execution_count": null,
   "id": "3627c7a3",
   "metadata": {},
   "outputs": [],
   "source": []
  },
  {
   "cell_type": "code",
   "execution_count": null,
   "id": "f8f4d6bb",
   "metadata": {},
   "outputs": [],
   "source": []
  },
  {
   "cell_type": "markdown",
   "id": "71fd25f9",
   "metadata": {},
   "source": [
    "## Feature Engineering"
   ]
  },
  {
   "cell_type": "markdown",
   "id": "1c722480",
   "metadata": {},
   "source": [
    "## earthquake magnitude scale should be computed "
   ]
  },
  {
   "cell_type": "code",
   "execution_count": null,
   "id": "c684721b",
   "metadata": {},
   "outputs": [],
   "source": []
  },
  {
   "cell_type": "markdown",
   "id": "2dd29765",
   "metadata": {},
   "source": [
    "### Define"
   ]
  },
  {
   "cell_type": "markdown",
   "id": "ab7f100d",
   "metadata": {},
   "source": [
    "### Calculate the earthquake magnitude scale"
   ]
  },
  {
   "cell_type": "code",
   "execution_count": 28,
   "id": "185bb553",
   "metadata": {},
   "outputs": [
    {
     "data": {
      "text/plain": [
       "dtype('float64')"
      ]
     },
     "execution_count": 28,
     "metadata": {},
     "output_type": "execute_result"
    }
   ],
   "source": [
    "earth_quake_df_clean.magnitude.dtype"
   ]
  },
  {
   "cell_type": "markdown",
   "id": "c964d947",
   "metadata": {},
   "source": [
    "### Code"
   ]
  },
  {
   "cell_type": "code",
   "execution_count": 29,
   "id": "86369a39",
   "metadata": {},
   "outputs": [],
   "source": [
    "def magnitude_scale(col:float)-> str:\n",
    "    scale = ''\n",
    "    if(col < 2.5):\n",
    "        scale = 'limited damage'\n",
    "    elif(col >= 2.5 and col <= 5.4):\n",
    "        scale = 'minor damage'\n",
    "    elif(col >= 5.5 and col <= 6.0):\n",
    "        scale = 'slight_damage'\n",
    "    elif(col >= 6.1 and col <= 6.9):\n",
    "        scale = 'severe damage'\n",
    "    elif(col >= 7.0 and col <= 7.9):\n",
    "        scale = 'serious damage'\n",
    "    else:\n",
    "        scale = 'great damage'\n",
    "    \n",
    "    return scale"
   ]
  },
  {
   "cell_type": "code",
   "execution_count": 30,
   "id": "db5a1a46",
   "metadata": {},
   "outputs": [],
   "source": [
    "earth_quake_df_clean['magnitude_scale'] = earth_quake_df_clean.magnitude.apply(magnitude_scale)"
   ]
  },
  {
   "cell_type": "code",
   "execution_count": null,
   "id": "ccf97965",
   "metadata": {},
   "outputs": [],
   "source": []
  },
  {
   "cell_type": "markdown",
   "id": "19eb8320",
   "metadata": {},
   "source": [
    "### Test"
   ]
  },
  {
   "cell_type": "code",
   "execution_count": 31,
   "id": "03451238",
   "metadata": {},
   "outputs": [
    {
     "data": {
      "text/plain": [
       "severe damage     765\n",
       "minor damage      692\n",
       "serious damage    627\n",
       "slight_damage     537\n",
       "limited damage     73\n",
       "great damage       62\n",
       "Name: magnitude_scale, dtype: int64"
      ]
     },
     "execution_count": 31,
     "metadata": {},
     "output_type": "execute_result"
    }
   ],
   "source": [
    "earth_quake_df_clean.magnitude_scale.value_counts()"
   ]
  },
  {
   "cell_type": "code",
   "execution_count": null,
   "id": "b3aff1ed",
   "metadata": {},
   "outputs": [],
   "source": []
  },
  {
   "cell_type": "code",
   "execution_count": 32,
   "id": "4809aaf1",
   "metadata": {},
   "outputs": [
    {
     "data": {
      "text/html": [
       "<div>\n",
       "<style scoped>\n",
       "    .dataframe tbody tr th:only-of-type {\n",
       "        vertical-align: middle;\n",
       "    }\n",
       "\n",
       "    .dataframe tbody tr th {\n",
       "        vertical-align: top;\n",
       "    }\n",
       "\n",
       "    .dataframe thead th {\n",
       "        text-align: right;\n",
       "    }\n",
       "</style>\n",
       "<table border=\"1\" class=\"dataframe\">\n",
       "  <thead>\n",
       "    <tr style=\"text-align: right;\">\n",
       "      <th></th>\n",
       "      <th>year</th>\n",
       "      <th>month</th>\n",
       "      <th>hour</th>\n",
       "      <th>latitude</th>\n",
       "      <th>longitude</th>\n",
       "      <th>focal_depth_(km)</th>\n",
       "      <th>magnitude</th>\n",
       "      <th>country</th>\n",
       "      <th>magnitude_scale</th>\n",
       "    </tr>\n",
       "  </thead>\n",
       "  <tbody>\n",
       "    <tr>\n",
       "      <th>1</th>\n",
       "      <td>1950</td>\n",
       "      <td>1</td>\n",
       "      <td>17</td>\n",
       "      <td>27.255</td>\n",
       "      <td>53.029</td>\n",
       "      <td>15.0</td>\n",
       "      <td>5.7</td>\n",
       "      <td>IRAN</td>\n",
       "      <td>slight_damage</td>\n",
       "    </tr>\n",
       "    <tr>\n",
       "      <th>2</th>\n",
       "      <td>1950</td>\n",
       "      <td>1</td>\n",
       "      <td>0</td>\n",
       "      <td>-53.500</td>\n",
       "      <td>-71.500</td>\n",
       "      <td>33.0</td>\n",
       "      <td>7.0</td>\n",
       "      <td>CHILE</td>\n",
       "      <td>serious damage</td>\n",
       "    </tr>\n",
       "    <tr>\n",
       "      <th>3</th>\n",
       "      <td>1950</td>\n",
       "      <td>2</td>\n",
       "      <td>19</td>\n",
       "      <td>21.700</td>\n",
       "      <td>100.100</td>\n",
       "      <td>0.0</td>\n",
       "      <td>7.0</td>\n",
       "      <td>CHINA</td>\n",
       "      <td>serious damage</td>\n",
       "    </tr>\n",
       "    <tr>\n",
       "      <th>4</th>\n",
       "      <td>1950</td>\n",
       "      <td>2</td>\n",
       "      <td>9</td>\n",
       "      <td>40.000</td>\n",
       "      <td>40.000</td>\n",
       "      <td>0.0</td>\n",
       "      <td>0.0</td>\n",
       "      <td>TURKEY</td>\n",
       "      <td>limited damage</td>\n",
       "    </tr>\n",
       "    <tr>\n",
       "      <th>5</th>\n",
       "      <td>1950</td>\n",
       "      <td>2</td>\n",
       "      <td>10</td>\n",
       "      <td>46.000</td>\n",
       "      <td>144.000</td>\n",
       "      <td>340.0</td>\n",
       "      <td>7.9</td>\n",
       "      <td>RUSSIA</td>\n",
       "      <td>serious damage</td>\n",
       "    </tr>\n",
       "  </tbody>\n",
       "</table>\n",
       "</div>"
      ],
      "text/plain": [
       "   year  month  hour  latitude  longitude  focal_depth_(km)  magnitude  \\\n",
       "1  1950      1    17    27.255     53.029              15.0        5.7   \n",
       "2  1950      1     0   -53.500    -71.500              33.0        7.0   \n",
       "3  1950      2    19    21.700    100.100               0.0        7.0   \n",
       "4  1950      2     9    40.000     40.000               0.0        0.0   \n",
       "5  1950      2    10    46.000    144.000             340.0        7.9   \n",
       "\n",
       "  country magnitude_scale  \n",
       "1    IRAN   slight_damage  \n",
       "2   CHILE  serious damage  \n",
       "3   CHINA  serious damage  \n",
       "4  TURKEY  limited damage  \n",
       "5  RUSSIA  serious damage  "
      ]
     },
     "execution_count": 32,
     "metadata": {},
     "output_type": "execute_result"
    }
   ],
   "source": [
    "earth_quake_df_clean.head()"
   ]
  },
  {
   "cell_type": "code",
   "execution_count": 33,
   "id": "916742d0",
   "metadata": {},
   "outputs": [
    {
     "data": {
      "text/html": [
       "<div>\n",
       "<style scoped>\n",
       "    .dataframe tbody tr th:only-of-type {\n",
       "        vertical-align: middle;\n",
       "    }\n",
       "\n",
       "    .dataframe tbody tr th {\n",
       "        vertical-align: top;\n",
       "    }\n",
       "\n",
       "    .dataframe thead th {\n",
       "        text-align: right;\n",
       "    }\n",
       "</style>\n",
       "<table border=\"1\" class=\"dataframe\">\n",
       "  <thead>\n",
       "    <tr style=\"text-align: right;\">\n",
       "      <th></th>\n",
       "      <th>year</th>\n",
       "      <th>month</th>\n",
       "      <th>hour</th>\n",
       "      <th>latitude</th>\n",
       "      <th>longitude</th>\n",
       "      <th>focal_depth_(km)</th>\n",
       "      <th>magnitude</th>\n",
       "      <th>country</th>\n",
       "      <th>magnitude_scale</th>\n",
       "    </tr>\n",
       "  </thead>\n",
       "  <tbody>\n",
       "  </tbody>\n",
       "</table>\n",
       "</div>"
      ],
      "text/plain": [
       "Empty DataFrame\n",
       "Columns: [year, month, hour, latitude, longitude, focal_depth_(km), magnitude, country, magnitude_scale]\n",
       "Index: []"
      ]
     },
     "execution_count": 33,
     "metadata": {},
     "output_type": "execute_result"
    }
   ],
   "source": [
    "earth_quake_df_clean[(earth_quake_df_clean.month == 9) & (earth_quake_df_clean.country == 'PHILIPIANS')]"
   ]
  },
  {
   "cell_type": "code",
   "execution_count": null,
   "id": "52f9e102",
   "metadata": {},
   "outputs": [],
   "source": []
  },
  {
   "cell_type": "code",
   "execution_count": 34,
   "id": "7d9e8095",
   "metadata": {},
   "outputs": [],
   "source": [
    "earth_quake_df_clean.to_csv('../3_Analysis/earthquake_data.csv', index=False)"
   ]
  },
  {
   "cell_type": "code",
   "execution_count": null,
   "id": "90f3c832",
   "metadata": {},
   "outputs": [],
   "source": []
  }
 ],
 "metadata": {
  "kernelspec": {
   "display_name": "Python 3 (ipykernel)",
   "language": "python",
   "name": "python3"
  },
  "language_info": {
   "codemirror_mode": {
    "name": "ipython",
    "version": 3
   },
   "file_extension": ".py",
   "mimetype": "text/x-python",
   "name": "python",
   "nbconvert_exporter": "python",
   "pygments_lexer": "ipython3",
   "version": "3.9.9"
  }
 },
 "nbformat": 4,
 "nbformat_minor": 5
}
