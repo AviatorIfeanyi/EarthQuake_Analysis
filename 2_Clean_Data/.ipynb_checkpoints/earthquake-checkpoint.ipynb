{
 "cells": [
  {
   "cell_type": "code",
   "execution_count": 1,
   "id": "8fe0b28d-6560-45b1-9b64-868af67bd658",
   "metadata": {},
   "outputs": [],
   "source": [
    "import pandas as pd "
   ]
  },
  {
   "cell_type": "code",
   "execution_count": 6,
   "id": "5c4a54e5-304c-43e8-a38e-37128a988dcf",
   "metadata": {},
   "outputs": [],
   "source": [
    "earth_quake_df = pd.read_csv('../1_Data/earthquakes.tsv', delimiter='\\t')"
   ]
  },
  {
   "cell_type": "code",
   "execution_count": 7,
   "id": "f0128439-17f4-43aa-a33b-e1abea98e216",
   "metadata": {},
   "outputs": [],
   "source": [
    "earth_quake_df = earth_quake_df.loc[earth_quake_df.Year >= 1950, :]"
   ]
  },
  {
   "cell_type": "code",
   "execution_count": 8,
   "id": "47b48249-3e11-4aed-8821-e3d73cb52e90",
   "metadata": {},
   "outputs": [
    {
     "data": {
      "text/html": [
       "<div>\n",
       "<style scoped>\n",
       "    .dataframe tbody tr th:only-of-type {\n",
       "        vertical-align: middle;\n",
       "    }\n",
       "\n",
       "    .dataframe tbody tr th {\n",
       "        vertical-align: top;\n",
       "    }\n",
       "\n",
       "    .dataframe thead th {\n",
       "        text-align: right;\n",
       "    }\n",
       "</style>\n",
       "<table border=\"1\" class=\"dataframe\">\n",
       "  <thead>\n",
       "    <tr style=\"text-align: right;\">\n",
       "      <th></th>\n",
       "      <th>Search Parameters</th>\n",
       "      <th>Year</th>\n",
       "      <th>Mo</th>\n",
       "      <th>Dy</th>\n",
       "      <th>Hr</th>\n",
       "      <th>Mn</th>\n",
       "      <th>Sec</th>\n",
       "      <th>Tsu</th>\n",
       "      <th>Vol</th>\n",
       "      <th>Location Name</th>\n",
       "      <th>...</th>\n",
       "      <th>Total Missing</th>\n",
       "      <th>Total Missing Description</th>\n",
       "      <th>Total Injuries</th>\n",
       "      <th>Total Injuries Description</th>\n",
       "      <th>Total Damage ($Mil)</th>\n",
       "      <th>Total Damage Description</th>\n",
       "      <th>Total Houses Destroyed</th>\n",
       "      <th>Total Houses Destroyed Description</th>\n",
       "      <th>Total Houses Damaged</th>\n",
       "      <th>Total Houses Damaged Description</th>\n",
       "    </tr>\n",
       "  </thead>\n",
       "  <tbody>\n",
       "    <tr>\n",
       "      <th>3586</th>\n",
       "      <td>NaN</td>\n",
       "      <td>1950.0</td>\n",
       "      <td>1.0</td>\n",
       "      <td>19.0</td>\n",
       "      <td>17.0</td>\n",
       "      <td>27.0</td>\n",
       "      <td>20.9</td>\n",
       "      <td>NaN</td>\n",
       "      <td>NaN</td>\n",
       "      <td>IRAN: BUSHIRE</td>\n",
       "      <td>...</td>\n",
       "      <td>NaN</td>\n",
       "      <td>NaN</td>\n",
       "      <td>NaN</td>\n",
       "      <td>NaN</td>\n",
       "      <td>NaN</td>\n",
       "      <td>3.0</td>\n",
       "      <td>NaN</td>\n",
       "      <td>NaN</td>\n",
       "      <td>NaN</td>\n",
       "      <td>NaN</td>\n",
       "    </tr>\n",
       "    <tr>\n",
       "      <th>3587</th>\n",
       "      <td>NaN</td>\n",
       "      <td>1950.0</td>\n",
       "      <td>1.0</td>\n",
       "      <td>30.0</td>\n",
       "      <td>0.0</td>\n",
       "      <td>56.0</td>\n",
       "      <td>32.0</td>\n",
       "      <td>1803.0</td>\n",
       "      <td>NaN</td>\n",
       "      <td>CHILE:  SOUTHERN</td>\n",
       "      <td>...</td>\n",
       "      <td>NaN</td>\n",
       "      <td>NaN</td>\n",
       "      <td>NaN</td>\n",
       "      <td>NaN</td>\n",
       "      <td>NaN</td>\n",
       "      <td>NaN</td>\n",
       "      <td>NaN</td>\n",
       "      <td>NaN</td>\n",
       "      <td>NaN</td>\n",
       "      <td>NaN</td>\n",
       "    </tr>\n",
       "    <tr>\n",
       "      <th>3588</th>\n",
       "      <td>NaN</td>\n",
       "      <td>1950.0</td>\n",
       "      <td>2.0</td>\n",
       "      <td>2.0</td>\n",
       "      <td>19.0</td>\n",
       "      <td>33.0</td>\n",
       "      <td>39.0</td>\n",
       "      <td>NaN</td>\n",
       "      <td>NaN</td>\n",
       "      <td>CHINA:  YUNNAN PROVINCE</td>\n",
       "      <td>...</td>\n",
       "      <td>NaN</td>\n",
       "      <td>NaN</td>\n",
       "      <td>NaN</td>\n",
       "      <td>NaN</td>\n",
       "      <td>NaN</td>\n",
       "      <td>1.0</td>\n",
       "      <td>NaN</td>\n",
       "      <td>NaN</td>\n",
       "      <td>NaN</td>\n",
       "      <td>NaN</td>\n",
       "    </tr>\n",
       "    <tr>\n",
       "      <th>3589</th>\n",
       "      <td>NaN</td>\n",
       "      <td>1950.0</td>\n",
       "      <td>2.0</td>\n",
       "      <td>4.0</td>\n",
       "      <td>9.0</td>\n",
       "      <td>31.0</td>\n",
       "      <td>0.0</td>\n",
       "      <td>NaN</td>\n",
       "      <td>NaN</td>\n",
       "      <td>TURKEY</td>\n",
       "      <td>...</td>\n",
       "      <td>NaN</td>\n",
       "      <td>NaN</td>\n",
       "      <td>NaN</td>\n",
       "      <td>NaN</td>\n",
       "      <td>NaN</td>\n",
       "      <td>NaN</td>\n",
       "      <td>NaN</td>\n",
       "      <td>NaN</td>\n",
       "      <td>NaN</td>\n",
       "      <td>NaN</td>\n",
       "    </tr>\n",
       "    <tr>\n",
       "      <th>3590</th>\n",
       "      <td>NaN</td>\n",
       "      <td>1950.0</td>\n",
       "      <td>2.0</td>\n",
       "      <td>28.0</td>\n",
       "      <td>10.0</td>\n",
       "      <td>20.0</td>\n",
       "      <td>0.0</td>\n",
       "      <td>NaN</td>\n",
       "      <td>NaN</td>\n",
       "      <td>RUSSIA:  SEA OF OKHOTSK</td>\n",
       "      <td>...</td>\n",
       "      <td>NaN</td>\n",
       "      <td>NaN</td>\n",
       "      <td>NaN</td>\n",
       "      <td>NaN</td>\n",
       "      <td>NaN</td>\n",
       "      <td>NaN</td>\n",
       "      <td>NaN</td>\n",
       "      <td>NaN</td>\n",
       "      <td>NaN</td>\n",
       "      <td>NaN</td>\n",
       "    </tr>\n",
       "  </tbody>\n",
       "</table>\n",
       "<p>5 rows × 39 columns</p>\n",
       "</div>"
      ],
      "text/plain": [
       "     Search Parameters    Year   Mo    Dy    Hr    Mn   Sec     Tsu  Vol  \\\n",
       "3586               NaN  1950.0  1.0  19.0  17.0  27.0  20.9     NaN  NaN   \n",
       "3587               NaN  1950.0  1.0  30.0   0.0  56.0  32.0  1803.0  NaN   \n",
       "3588               NaN  1950.0  2.0   2.0  19.0  33.0  39.0     NaN  NaN   \n",
       "3589               NaN  1950.0  2.0   4.0   9.0  31.0   0.0     NaN  NaN   \n",
       "3590               NaN  1950.0  2.0  28.0  10.0  20.0   0.0     NaN  NaN   \n",
       "\n",
       "                Location Name  ...  Total Missing  Total Missing Description  \\\n",
       "3586            IRAN: BUSHIRE  ...            NaN                        NaN   \n",
       "3587         CHILE:  SOUTHERN  ...            NaN                        NaN   \n",
       "3588  CHINA:  YUNNAN PROVINCE  ...            NaN                        NaN   \n",
       "3589                   TURKEY  ...            NaN                        NaN   \n",
       "3590  RUSSIA:  SEA OF OKHOTSK  ...            NaN                        NaN   \n",
       "\n",
       "      Total Injuries  Total Injuries Description  Total Damage ($Mil)  \\\n",
       "3586             NaN                         NaN                  NaN   \n",
       "3587             NaN                         NaN                  NaN   \n",
       "3588             NaN                         NaN                  NaN   \n",
       "3589             NaN                         NaN                  NaN   \n",
       "3590             NaN                         NaN                  NaN   \n",
       "\n",
       "      Total Damage Description  Total Houses Destroyed  \\\n",
       "3586                       3.0                     NaN   \n",
       "3587                       NaN                     NaN   \n",
       "3588                       1.0                     NaN   \n",
       "3589                       NaN                     NaN   \n",
       "3590                       NaN                     NaN   \n",
       "\n",
       "      Total Houses Destroyed Description  Total Houses Damaged  \\\n",
       "3586                                 NaN                   NaN   \n",
       "3587                                 NaN                   NaN   \n",
       "3588                                 NaN                   NaN   \n",
       "3589                                 NaN                   NaN   \n",
       "3590                                 NaN                   NaN   \n",
       "\n",
       "      Total Houses Damaged Description  \n",
       "3586                               NaN  \n",
       "3587                               NaN  \n",
       "3588                               NaN  \n",
       "3589                               NaN  \n",
       "3590                               NaN  \n",
       "\n",
       "[5 rows x 39 columns]"
      ]
     },
     "execution_count": 8,
     "metadata": {},
     "output_type": "execute_result"
    }
   ],
   "source": [
    "earth_quake_df.head()"
   ]
  },
  {
   "cell_type": "code",
   "execution_count": null,
   "id": "6395dbb7-6863-44fc-8910-58a8ab83dbd4",
   "metadata": {},
   "outputs": [],
   "source": []
  },
  {
   "cell_type": "code",
   "execution_count": 22,
   "id": "560a3221-792b-47dc-8dc3-f50b15b484d8",
   "metadata": {},
   "outputs": [
    {
     "name": "stdout",
     "output_type": "stream",
     "text": [
      "<class 'pandas.core.frame.DataFrame'>\n",
      "Int64Index: 1612 entries, 4726 to 6337\n",
      "Data columns (total 39 columns):\n",
      " #   Column                              Non-Null Count  Dtype  \n",
      "---  ------                              --------------  -----  \n",
      " 0   Search Parameters                   0 non-null      object \n",
      " 1   Year                                1612 non-null   float64\n",
      " 2   Mo                                  1612 non-null   float64\n",
      " 3   Dy                                  1612 non-null   float64\n",
      " 4   Hr                                  1611 non-null   float64\n",
      " 5   Mn                                  1610 non-null   float64\n",
      " 6   Sec                                 1607 non-null   float64\n",
      " 7   Tsu                                 347 non-null    float64\n",
      " 8   Vol                                 14 non-null     float64\n",
      " 9   Location Name                       1612 non-null   object \n",
      " 10  Latitude                            1612 non-null   float64\n",
      " 11  Longitude                           1612 non-null   float64\n",
      " 12  Focal Depth (km)                    1600 non-null   float64\n",
      " 13  Mag                                 1609 non-null   float64\n",
      " 14  MMI Int                             490 non-null    float64\n",
      " 15  Deaths                              688 non-null    float64\n",
      " 16  Death Description                   696 non-null    float64\n",
      " 17  Missing                             22 non-null     float64\n",
      " 18  Missing Description                 21 non-null     float64\n",
      " 19  Injuries                            862 non-null    float64\n",
      " 20  Injuries Description                926 non-null    float64\n",
      " 21  Damage ($Mil)                       253 non-null    float64\n",
      " 22  Damage Description                  1320 non-null   float64\n",
      " 23  Houses Destroyed                    430 non-null    float64\n",
      " 24  Houses Destroyed Description        603 non-null    float64\n",
      " 25  Houses Damaged                      442 non-null    float64\n",
      " 26  Houses Damaged Description          714 non-null    float64\n",
      " 27  Total Deaths                        705 non-null    float64\n",
      " 28  Total Death Description             709 non-null    float64\n",
      " 29  Total Missing                       23 non-null     float64\n",
      " 30  Total Missing Description           24 non-null     float64\n",
      " 31  Total Injuries                      879 non-null    float64\n",
      " 32  Total Injuries Description          944 non-null    float64\n",
      " 33  Total Damage ($Mil)                 263 non-null    float64\n",
      " 34  Total Damage Description            1317 non-null   float64\n",
      " 35  Total Houses Destroyed              439 non-null    float64\n",
      " 36  Total Houses Destroyed Description  617 non-null    float64\n",
      " 37  Total Houses Damaged                420 non-null    float64\n",
      " 38  Total Houses Damaged Description    687 non-null    float64\n",
      "dtypes: float64(37), object(2)\n",
      "memory usage: 503.8+ KB\n"
     ]
    }
   ],
   "source": [
    "earth_quake_df.info()"
   ]
  },
  {
   "cell_type": "code",
   "execution_count": 21,
   "id": "53299a5c-d15c-4a13-b450-0c587cfe63e2",
   "metadata": {},
   "outputs": [
    {
     "data": {
      "text/plain": [
       "Index(['Search Parameters', 'Year', 'Mo', 'Dy', 'Hr', 'Mn', 'Sec', 'Tsu',\n",
       "       'Vol', 'Location Name', 'Latitude', 'Longitude', 'Focal Depth (km)',\n",
       "       'Mag', 'MMI Int', 'Deaths', 'Death Description', 'Missing',\n",
       "       'Missing Description', 'Injuries', 'Injuries Description',\n",
       "       'Damage ($Mil)', 'Damage Description', 'Houses Destroyed',\n",
       "       'Houses Destroyed Description', 'Houses Damaged',\n",
       "       'Houses Damaged Description', 'Total Deaths', 'Total Death Description',\n",
       "       'Total Missing', 'Total Missing Description', 'Total Injuries',\n",
       "       'Total Injuries Description', 'Total Damage ($Mil)',\n",
       "       'Total Damage Description', 'Total Houses Destroyed',\n",
       "       'Total Houses Destroyed Description', 'Total Houses Damaged',\n",
       "       'Total Houses Damaged Description'],\n",
       "      dtype='object')"
      ]
     },
     "execution_count": 21,
     "metadata": {},
     "output_type": "execute_result"
    }
   ],
   "source": [
    "earth_quake_df.columns"
   ]
  },
  {
   "cell_type": "code",
   "execution_count": null,
   "id": "5eb256f2-f6d8-4315-9d7d-00b710be0c30",
   "metadata": {},
   "outputs": [],
   "source": []
  },
  {
   "cell_type": "code",
   "execution_count": null,
   "id": "1d4f48c4",
   "metadata": {},
   "outputs": [],
   "source": []
  },
  {
   "cell_type": "markdown",
   "id": "d14c7ab8",
   "metadata": {},
   "source": [
    "## Data Cleaning Observations"
   ]
  },
  {
   "cell_type": "markdown",
   "id": "fc091722",
   "metadata": {},
   "source": [
    "### Mn, Sec, Tsu, Vol,Dy, MMI Int, Deaths, Death Description, Missing, Missing Description, Injuries, Injuries Description, Damage, \n",
    "### Damage Description, Houses Destroyed,Houses Destroyed Description, Houses Damaged, Houses Damaged Description, Total Deaths, \n",
    "### Total Death Description, Total Missing, Total Missing Description,  Total Injuries, Total Injuries Description,Total Damage (Mil), \n",
    "### Total Damage Description, Total Houses Destroyed, Total Houses Destroyed Description, Total Houses Damaged, Total Houses Damaged Description\n",
    "\n",
    "##### ------------------------------------------------------------------------------------------------------------------------------------------------------------------------------------------\n",
    "\n",
    "### 1 All the above mentioned columns will be dropped, as they do not contain enough information for analysis"
   ]
  },
  {
   "cell_type": "markdown",
   "id": "0c76ab3e",
   "metadata": {},
   "source": [
    "### 2 Rename Mo and Hr columns to a descriptive name namely Month and Hour\n",
    "### 3 Convert Year, Mo and Hr columns to object data types\n",
    "### 4 Extract the country name from location name column\n",
    "### 5 Drop the location name column\n",
    "### 6 Fill-in null values with zeros (0)\n",
    "### 7 index column values are disorganised.  "
   ]
  },
  {
   "cell_type": "code",
   "execution_count": null,
   "id": "32d60038",
   "metadata": {},
   "outputs": [],
   "source": []
  },
  {
   "cell_type": "markdown",
   "id": "0a82bc16",
   "metadata": {},
   "source": [
    "## Data Cleaning"
   ]
  },
  {
   "cell_type": "code",
   "execution_count": 9,
   "id": "e1c74ea6",
   "metadata": {},
   "outputs": [],
   "source": [
    "earth_quake_df_clean = earth_quake_df.copy()"
   ]
  },
  {
   "cell_type": "code",
   "execution_count": null,
   "id": "8dc3e052",
   "metadata": {},
   "outputs": [],
   "source": []
  },
  {
   "cell_type": "code",
   "execution_count": null,
   "id": "0c55dc3a",
   "metadata": {},
   "outputs": [],
   "source": []
  },
  {
   "cell_type": "markdown",
   "id": "ad16d5f1",
   "metadata": {},
   "source": [
    "### 1 Drop all columns not relevant for analysis"
   ]
  },
  {
   "cell_type": "markdown",
   "id": "09202e5c",
   "metadata": {},
   "source": [
    "### Define"
   ]
  },
  {
   "cell_type": "markdown",
   "id": "17417838",
   "metadata": {},
   "source": [
    "### remove identified unnecessary columns using the drop method"
   ]
  },
  {
   "cell_type": "code",
   "execution_count": null,
   "id": "02f294cc",
   "metadata": {},
   "outputs": [],
   "source": []
  },
  {
   "cell_type": "markdown",
   "id": "b5284466",
   "metadata": {},
   "source": [
    "### Code"
   ]
  },
  {
   "cell_type": "code",
   "execution_count": 10,
   "id": "0e7e8cd1",
   "metadata": {},
   "outputs": [],
   "source": [
    "earth_quake_df_clean.drop(['Search Parameters', 'Mn','Sec', 'Tsu', 'Vol','Dy','MMI Int', 'Deaths', 'Death Description', \n",
    "                      'Missing', 'Missing Description', 'Injuries', 'Injuries Description', 'Damage ($Mil)', \n",
    "                      'Damage Description', 'Houses Destroyed','Houses Destroyed Description', 'Houses Damaged', \n",
    "                      'Houses Damaged Description', \n",
    "                      'Total Deaths','Total Death Description', 'Total Missing',\n",
    "                      'Total Missing Description','Total Injuries', 'Total Injuries Description',\n",
    "                      'Total Damage ($Mil)', 'Total Damage Description', 'Total Houses Destroyed', \n",
    "                      'Total Houses Destroyed Description', 'Total Houses Damaged',\n",
    "                      'Total Houses Damaged Description'], axis=1,inplace=True)"
   ]
  },
  {
   "cell_type": "code",
   "execution_count": null,
   "id": "a294d03c",
   "metadata": {},
   "outputs": [],
   "source": []
  },
  {
   "cell_type": "markdown",
   "id": "9ae57c34",
   "metadata": {},
   "source": [
    "### Test"
   ]
  },
  {
   "cell_type": "code",
   "execution_count": 11,
   "id": "fb3c7940",
   "metadata": {},
   "outputs": [
    {
     "data": {
      "text/plain": [
       "Index(['Year', 'Mo', 'Hr', 'Location Name', 'Latitude', 'Longitude',\n",
       "       'Focal Depth (km)', 'Mag'],\n",
       "      dtype='object')"
      ]
     },
     "execution_count": 11,
     "metadata": {},
     "output_type": "execute_result"
    }
   ],
   "source": [
    "earth_quake_df_clean.columns"
   ]
  },
  {
   "cell_type": "code",
   "execution_count": null,
   "id": "4548c9a4",
   "metadata": {},
   "outputs": [],
   "source": []
  },
  {
   "cell_type": "markdown",
   "id": "f5897590",
   "metadata": {},
   "source": [
    "### 2 column names to lowercase"
   ]
  },
  {
   "cell_type": "markdown",
   "id": "eae09338",
   "metadata": {},
   "source": [
    "### Define"
   ]
  },
  {
   "cell_type": "markdown",
   "id": "9841a66b",
   "metadata": {},
   "source": [
    "### Convert column names to lowercase"
   ]
  },
  {
   "cell_type": "code",
   "execution_count": null,
   "id": "2005d392",
   "metadata": {},
   "outputs": [],
   "source": []
  },
  {
   "cell_type": "markdown",
   "id": "7117c704",
   "metadata": {},
   "source": [
    "### Code"
   ]
  },
  {
   "cell_type": "code",
   "execution_count": 17,
   "id": "e1fb9ee3",
   "metadata": {},
   "outputs": [],
   "source": [
    "earth_quake_df_clean.columns = earth_quake_df_clean.columns.str.lower()"
   ]
  },
  {
   "cell_type": "code",
   "execution_count": null,
   "id": "74543078",
   "metadata": {},
   "outputs": [],
   "source": []
  },
  {
   "cell_type": "markdown",
   "id": "4b58c29b",
   "metadata": {},
   "source": [
    "### Test"
   ]
  },
  {
   "cell_type": "code",
   "execution_count": 18,
   "id": "67595fe1",
   "metadata": {},
   "outputs": [
    {
     "data": {
      "text/plain": [
       "Index(['year', 'month', 'hour', 'location name', 'latitude', 'longitude',\n",
       "       'focal depth (km)', 'magnitude'],\n",
       "      dtype='object')"
      ]
     },
     "execution_count": 18,
     "metadata": {},
     "output_type": "execute_result"
    }
   ],
   "source": [
    "earth_quake_df_clean.columns"
   ]
  },
  {
   "cell_type": "code",
   "execution_count": null,
   "id": "1c68dd5a",
   "metadata": {},
   "outputs": [],
   "source": []
  },
  {
   "cell_type": "markdown",
   "id": "7df2da09",
   "metadata": {},
   "source": [
    "### Spaces in-between column names should be removed"
   ]
  },
  {
   "cell_type": "markdown",
   "id": "1ff8d8e3",
   "metadata": {},
   "source": [
    "### Define"
   ]
  },
  {
   "cell_type": "markdown",
   "id": "fccdd165",
   "metadata": {},
   "source": [
    "### Replace spaces in-between column names with an underscore"
   ]
  },
  {
   "cell_type": "code",
   "execution_count": null,
   "id": "36e0fba0",
   "metadata": {},
   "outputs": [],
   "source": []
  },
  {
   "cell_type": "markdown",
   "id": "36cb1989",
   "metadata": {},
   "source": [
    "### Code"
   ]
  },
  {
   "cell_type": "code",
   "execution_count": 19,
   "id": "6b49ebf9",
   "metadata": {},
   "outputs": [],
   "source": [
    "earth_quake_df_clean.columns = earth_quake_df_clean.columns.str.replace(' ', '_')"
   ]
  },
  {
   "cell_type": "code",
   "execution_count": null,
   "id": "9b388c67",
   "metadata": {},
   "outputs": [],
   "source": []
  },
  {
   "cell_type": "markdown",
   "id": "9f4c7fff",
   "metadata": {},
   "source": [
    "### Test"
   ]
  },
  {
   "cell_type": "code",
   "execution_count": 20,
   "id": "bfce7455",
   "metadata": {},
   "outputs": [
    {
     "data": {
      "text/plain": [
       "Index(['year', 'month', 'hour', 'location_name', 'latitude', 'longitude',\n",
       "       'focal_depth_(km)', 'magnitude'],\n",
       "      dtype='object')"
      ]
     },
     "execution_count": 20,
     "metadata": {},
     "output_type": "execute_result"
    }
   ],
   "source": [
    "earth_quake_df_clean.columns"
   ]
  },
  {
   "cell_type": "code",
   "execution_count": null,
   "id": "160a6c51",
   "metadata": {},
   "outputs": [],
   "source": []
  },
  {
   "cell_type": "markdown",
   "id": "51b90a07",
   "metadata": {},
   "source": [
    "### 3  Mo and Hr columns should have descriptive name namely Month and Hour\n"
   ]
  },
  {
   "cell_type": "markdown",
   "id": "b04bc3cf",
   "metadata": {},
   "source": [
    "### Define"
   ]
  },
  {
   "cell_type": "markdown",
   "id": "32f7fd95",
   "metadata": {},
   "source": [
    "### Rename the Mo and Hr columns using rename() method"
   ]
  },
  {
   "cell_type": "code",
   "execution_count": null,
   "id": "3c245a9b",
   "metadata": {},
   "outputs": [],
   "source": []
  },
  {
   "cell_type": "markdown",
   "id": "4ae28bfe",
   "metadata": {},
   "source": [
    "### Code"
   ]
  },
  {
   "cell_type": "code",
   "execution_count": 22,
   "id": "24c66479",
   "metadata": {},
   "outputs": [],
   "source": [
    "earth_quake_df_clean.rename(columns = {'Mo':'month', 'Hr':'hour','Mag':'magnitude'}, inplace=True)"
   ]
  },
  {
   "cell_type": "code",
   "execution_count": null,
   "id": "cec291a8",
   "metadata": {},
   "outputs": [],
   "source": []
  },
  {
   "cell_type": "markdown",
   "id": "558ee03b",
   "metadata": {},
   "source": [
    "### Test"
   ]
  },
  {
   "cell_type": "code",
   "execution_count": 23,
   "id": "d9a29656",
   "metadata": {},
   "outputs": [
    {
     "data": {
      "text/plain": [
       "Index(['year', 'month', 'hour', 'location_name', 'latitude', 'longitude',\n",
       "       'focal_depth_(km)', 'magnitude'],\n",
       "      dtype='object')"
      ]
     },
     "execution_count": 23,
     "metadata": {},
     "output_type": "execute_result"
    }
   ],
   "source": [
    "earth_quake_df_clean.columns"
   ]
  },
  {
   "cell_type": "code",
   "execution_count": null,
   "id": "3c00baa3",
   "metadata": {},
   "outputs": [],
   "source": []
  },
  {
   "cell_type": "markdown",
   "id": "dfb2a931",
   "metadata": {},
   "source": [
    "### 3 Convert Year, Month and Hour columns to object data types\n"
   ]
  },
  {
   "cell_type": "markdown",
   "id": "4146bb0e",
   "metadata": {},
   "source": [
    "### Define"
   ]
  },
  {
   "cell_type": "markdown",
   "id": "90b2bdaa",
   "metadata": {},
   "source": [
    "### Modify the data types of the identified columns using the astype method"
   ]
  },
  {
   "cell_type": "code",
   "execution_count": null,
   "id": "1455b5d4",
   "metadata": {},
   "outputs": [],
   "source": []
  },
  {
   "cell_type": "markdown",
   "id": "fd20b08d",
   "metadata": {},
   "source": [
    "### Code"
   ]
  },
  {
   "cell_type": "code",
   "execution_count": 24,
   "id": "a87faaea",
   "metadata": {},
   "outputs": [],
   "source": [
    "earth_quake_df_clean[['year', 'month', 'hour']] = earth_quake_df_clean[['year', 'month', 'hour']].astype(object)"
   ]
  },
  {
   "cell_type": "code",
   "execution_count": null,
   "id": "63dae6c3",
   "metadata": {},
   "outputs": [],
   "source": []
  },
  {
   "cell_type": "markdown",
   "id": "980b0480",
   "metadata": {},
   "source": [
    "### Test"
   ]
  },
  {
   "cell_type": "code",
   "execution_count": 25,
   "id": "6cd74e9c",
   "metadata": {},
   "outputs": [
    {
     "data": {
      "text/plain": [
       "year     object\n",
       "month    object\n",
       "hour     object\n",
       "dtype: object"
      ]
     },
     "execution_count": 25,
     "metadata": {},
     "output_type": "execute_result"
    }
   ],
   "source": [
    "earth_quake_df_clean[['year', 'month', 'hour']].dtypes"
   ]
  },
  {
   "cell_type": "code",
   "execution_count": null,
   "id": "a46681a0",
   "metadata": {},
   "outputs": [],
   "source": []
  },
  {
   "cell_type": "markdown",
   "id": "a7ca6a92",
   "metadata": {},
   "source": [
    "### 4 Extract the country name from location name column\n"
   ]
  },
  {
   "cell_type": "markdown",
   "id": "81815590",
   "metadata": {},
   "source": [
    "### Define"
   ]
  },
  {
   "cell_type": "markdown",
   "id": "1612ab6c",
   "metadata": {},
   "source": [
    "### extract the country name from location name using str.split() method"
   ]
  },
  {
   "cell_type": "code",
   "execution_count": null,
   "id": "cb82f27f",
   "metadata": {},
   "outputs": [],
   "source": []
  },
  {
   "cell_type": "markdown",
   "id": "26fc617d",
   "metadata": {},
   "source": [
    "### Code"
   ]
  },
  {
   "cell_type": "code",
   "execution_count": 26,
   "id": "a06faf1a",
   "metadata": {},
   "outputs": [],
   "source": [
    "earth_quake_df_clean['country'] = earth_quake_df_clean['location_name'].str.split(':').str[0]"
   ]
  },
  {
   "cell_type": "code",
   "execution_count": null,
   "id": "996ccb51",
   "metadata": {},
   "outputs": [],
   "source": []
  },
  {
   "cell_type": "markdown",
   "id": "bdbf09e8",
   "metadata": {},
   "source": [
    "### Test"
   ]
  },
  {
   "cell_type": "code",
   "execution_count": 27,
   "id": "1842400e",
   "metadata": {},
   "outputs": [
    {
     "data": {
      "text/plain": [
       "CHINA                     286\n",
       "INDONESIA                 226\n",
       "IRAN                      189\n",
       "JAPAN                     157\n",
       "TURKEY                    113\n",
       "                         ... \n",
       "CANADA; MAINE               1\n",
       "VENEZUELA-N COLOMBIA        1\n",
       "HONDURAS;  N GUATEMALA      1\n",
       "MONTENEGRO                  1\n",
       "ALASKA PENINSULA            1\n",
       "Name: country, Length: 221, dtype: int64"
      ]
     },
     "execution_count": 27,
     "metadata": {},
     "output_type": "execute_result"
    }
   ],
   "source": [
    "earth_quake_df_clean.country.value_counts()"
   ]
  },
  {
   "cell_type": "code",
   "execution_count": null,
   "id": "bfb32266",
   "metadata": {},
   "outputs": [],
   "source": []
  },
  {
   "cell_type": "markdown",
   "id": "e115b69b",
   "metadata": {},
   "source": [
    "### 5 location name column should be removed"
   ]
  },
  {
   "cell_type": "markdown",
   "id": "6aff4b57",
   "metadata": {},
   "source": [
    "### Define"
   ]
  },
  {
   "cell_type": "markdown",
   "id": "74b81c81",
   "metadata": {},
   "source": [
    "### Remove the location name column using the drop() method"
   ]
  },
  {
   "cell_type": "code",
   "execution_count": null,
   "id": "2932180e",
   "metadata": {},
   "outputs": [],
   "source": []
  },
  {
   "cell_type": "markdown",
   "id": "26f2a8ce",
   "metadata": {},
   "source": [
    "### Code"
   ]
  },
  {
   "cell_type": "code",
   "execution_count": 28,
   "id": "d9b96c6e",
   "metadata": {},
   "outputs": [],
   "source": [
    "earth_quake_df_clean.drop(['location_name'], axis=1, inplace=True)"
   ]
  },
  {
   "cell_type": "code",
   "execution_count": null,
   "id": "cbaa3610",
   "metadata": {},
   "outputs": [],
   "source": []
  },
  {
   "cell_type": "markdown",
   "id": "f5cb2173",
   "metadata": {},
   "source": [
    "### Test"
   ]
  },
  {
   "cell_type": "code",
   "execution_count": 30,
   "id": "d8ddef19",
   "metadata": {},
   "outputs": [
    {
     "data": {
      "text/plain": [
       "Index(['year', 'month', 'hour', 'latitude', 'longitude', 'focal_depth_(km)',\n",
       "       'magnitude', 'country'],\n",
       "      dtype='object')"
      ]
     },
     "execution_count": 30,
     "metadata": {},
     "output_type": "execute_result"
    }
   ],
   "source": [
    "earth_quake_df_clean.columns"
   ]
  },
  {
   "cell_type": "code",
   "execution_count": null,
   "id": "9eab3c3d",
   "metadata": {},
   "outputs": [],
   "source": []
  },
  {
   "cell_type": "markdown",
   "id": "8ff44e8a",
   "metadata": {},
   "source": [
    "### 6 Fill-in null values with zeros (0)"
   ]
  },
  {
   "cell_type": "markdown",
   "id": "0967f22b",
   "metadata": {},
   "source": [
    "### Define"
   ]
  },
  {
   "cell_type": "markdown",
   "id": "494c128e",
   "metadata": {},
   "source": [
    "### Substitute null values with Zeros (0) using fillna method"
   ]
  },
  {
   "cell_type": "code",
   "execution_count": null,
   "id": "4e7379de",
   "metadata": {},
   "outputs": [],
   "source": []
  },
  {
   "cell_type": "markdown",
   "id": "6106f133",
   "metadata": {},
   "source": [
    "### Code"
   ]
  },
  {
   "cell_type": "code",
   "execution_count": 31,
   "id": "5dfd74a9",
   "metadata": {},
   "outputs": [
    {
     "data": {
      "text/plain": [
       "year                  0\n",
       "month                 0\n",
       "hour                 34\n",
       "latitude              1\n",
       "longitude             1\n",
       "focal_depth_(km)    187\n",
       "magnitude            69\n",
       "country               0\n",
       "dtype: int64"
      ]
     },
     "execution_count": 31,
     "metadata": {},
     "output_type": "execute_result"
    }
   ],
   "source": [
    "earth_quake_df_clean.isnull().sum()"
   ]
  },
  {
   "cell_type": "code",
   "execution_count": null,
   "id": "a6e71602",
   "metadata": {},
   "outputs": [],
   "source": []
  },
  {
   "cell_type": "code",
   "execution_count": 32,
   "id": "0c49d159",
   "metadata": {},
   "outputs": [],
   "source": [
    "earth_quake_df_clean.fillna(0, inplace=True)"
   ]
  },
  {
   "cell_type": "code",
   "execution_count": null,
   "id": "4c93a40b",
   "metadata": {},
   "outputs": [],
   "source": []
  },
  {
   "cell_type": "markdown",
   "id": "16801cdb",
   "metadata": {},
   "source": [
    "### Test"
   ]
  },
  {
   "cell_type": "code",
   "execution_count": 33,
   "id": "3176654f",
   "metadata": {},
   "outputs": [
    {
     "data": {
      "text/plain": [
       "year                0\n",
       "month               0\n",
       "hour                0\n",
       "latitude            0\n",
       "longitude           0\n",
       "focal_depth_(km)    0\n",
       "magnitude           0\n",
       "country             0\n",
       "dtype: int64"
      ]
     },
     "execution_count": 33,
     "metadata": {},
     "output_type": "execute_result"
    }
   ],
   "source": [
    "earth_quake_df_clean.isnull().sum()"
   ]
  },
  {
   "cell_type": "code",
   "execution_count": null,
   "id": "b022c318",
   "metadata": {},
   "outputs": [],
   "source": []
  },
  {
   "cell_type": "code",
   "execution_count": null,
   "id": "c42282d0",
   "metadata": {},
   "outputs": [],
   "source": []
  },
  {
   "cell_type": "markdown",
   "id": "0df3ed5c",
   "metadata": {},
   "source": [
    "### 7 index column values are disorganised.  "
   ]
  },
  {
   "cell_type": "markdown",
   "id": "69b7276f",
   "metadata": {},
   "source": [
    "### Define"
   ]
  },
  {
   "cell_type": "markdown",
   "id": "114ff363",
   "metadata": {},
   "source": [
    "### Replace the index column values to a sorted numeric values"
   ]
  },
  {
   "cell_type": "code",
   "execution_count": null,
   "id": "ac4e3039",
   "metadata": {},
   "outputs": [],
   "source": []
  },
  {
   "cell_type": "markdown",
   "id": "1dbcd9f4",
   "metadata": {},
   "source": [
    "### Code"
   ]
  },
  {
   "cell_type": "code",
   "execution_count": 34,
   "id": "ee8109d3",
   "metadata": {},
   "outputs": [
    {
     "data": {
      "text/plain": [
       "Int64Index([3586, 3587, 3588, 3589, 3590, 3591, 3592, 3593, 3594, 3595,\n",
       "            ...\n",
       "            6328, 6329, 6330, 6331, 6332, 6333, 6334, 6335, 6336, 6337],\n",
       "           dtype='int64', length=2752)"
      ]
     },
     "execution_count": 34,
     "metadata": {},
     "output_type": "execute_result"
    }
   ],
   "source": [
    "earth_quake_df_clean.index"
   ]
  },
  {
   "cell_type": "code",
   "execution_count": 35,
   "id": "3e59be04",
   "metadata": {},
   "outputs": [],
   "source": [
    "earth_quake_df_clean.index = range(1, len(earth_quake_df_clean) + 1)"
   ]
  },
  {
   "cell_type": "code",
   "execution_count": null,
   "id": "7d040410",
   "metadata": {},
   "outputs": [],
   "source": []
  },
  {
   "cell_type": "markdown",
   "id": "befb3710",
   "metadata": {},
   "source": [
    "### Test"
   ]
  },
  {
   "cell_type": "code",
   "execution_count": 36,
   "id": "8b56270f",
   "metadata": {},
   "outputs": [
    {
     "data": {
      "text/plain": [
       "RangeIndex(start=1, stop=2753, step=1)"
      ]
     },
     "execution_count": 36,
     "metadata": {},
     "output_type": "execute_result"
    }
   ],
   "source": [
    "earth_quake_df_clean.index"
   ]
  },
  {
   "cell_type": "code",
   "execution_count": null,
   "id": "062f6653",
   "metadata": {},
   "outputs": [],
   "source": []
  },
  {
   "cell_type": "code",
   "execution_count": null,
   "id": "5c02ebc5",
   "metadata": {},
   "outputs": [],
   "source": []
  },
  {
   "cell_type": "markdown",
   "id": "b86646c0",
   "metadata": {},
   "source": [
    "## Feature Engineering"
   ]
  },
  {
   "cell_type": "markdown",
   "id": "a01bc76f",
   "metadata": {},
   "source": [
    "## earthquake magnitude scale should be computed "
   ]
  },
  {
   "cell_type": "code",
   "execution_count": null,
   "id": "8c2d31c9",
   "metadata": {},
   "outputs": [],
   "source": []
  },
  {
   "cell_type": "markdown",
   "id": "5de7fb63",
   "metadata": {},
   "source": [
    "### Define"
   ]
  },
  {
   "cell_type": "markdown",
   "id": "b5aa0ad3",
   "metadata": {},
   "source": [
    "### Calculate the earthquake magnitude scale"
   ]
  },
  {
   "cell_type": "code",
   "execution_count": 41,
   "id": "db015291",
   "metadata": {},
   "outputs": [
    {
     "data": {
      "text/plain": [
       "dtype('float64')"
      ]
     },
     "execution_count": 41,
     "metadata": {},
     "output_type": "execute_result"
    }
   ],
   "source": [
    "earth_quake_df_clean.magnitude.dtype"
   ]
  },
  {
   "cell_type": "markdown",
   "id": "c23bdbd2",
   "metadata": {},
   "source": [
    "### Code"
   ]
  },
  {
   "cell_type": "code",
   "execution_count": 47,
   "id": "8086fa97",
   "metadata": {},
   "outputs": [],
   "source": [
    "def magnitude_scale(col:float)-> str:\n",
    "    scale = ''\n",
    "    if(col < 2.5):\n",
    "        scale = 'limited damage'\n",
    "    elif(col >= 2.5 and col <= 5.4):\n",
    "        scale = 'minor damage'\n",
    "    elif(col >= 5.5 and col <= 6.0):\n",
    "        scale = 'slight_damage'\n",
    "    elif(col >= 6.1 and col <= 6.9):\n",
    "        scale = 'severe damage'\n",
    "    elif(col >= 7.0 and col <= 7.9):\n",
    "        scale = 'serious damage'\n",
    "    else:\n",
    "        scale = 'great damage'\n",
    "    \n",
    "    return scale"
   ]
  },
  {
   "cell_type": "code",
   "execution_count": 48,
   "id": "cf3dc33b",
   "metadata": {},
   "outputs": [],
   "source": [
    "earth_quake_df_clean['magnitude_scale'] = earth_quake_df_clean.magnitude.apply(magnitude_scale)"
   ]
  },
  {
   "cell_type": "code",
   "execution_count": null,
   "id": "ccf97965",
   "metadata": {},
   "outputs": [],
   "source": []
  },
  {
   "cell_type": "markdown",
   "id": "ab335bb1",
   "metadata": {},
   "source": [
    "### Test"
   ]
  },
  {
   "cell_type": "code",
   "execution_count": 51,
   "id": "36e8e9bd",
   "metadata": {},
   "outputs": [
    {
     "data": {
      "text/plain": [
       "severe damage     764\n",
       "minor damage      692\n",
       "serious damage    626\n",
       "slight_damage     535\n",
       "limited damage     73\n",
       "great damage       62\n",
       "Name: magnitude_scale, dtype: int64"
      ]
     },
     "execution_count": 51,
     "metadata": {},
     "output_type": "execute_result"
    }
   ],
   "source": [
    "earth_quake_df_clean.magnitude_scale.value_counts()"
   ]
  },
  {
   "cell_type": "code",
   "execution_count": null,
   "id": "1e3abefe",
   "metadata": {},
   "outputs": [],
   "source": []
  },
  {
   "cell_type": "code",
   "execution_count": null,
   "id": "f13bce7a",
   "metadata": {},
   "outputs": [],
   "source": []
  },
  {
   "cell_type": "code",
   "execution_count": null,
   "id": "01c79e03",
   "metadata": {},
   "outputs": [],
   "source": []
  },
  {
   "cell_type": "code",
   "execution_count": 85,
   "id": "7d9e8095",
   "metadata": {},
   "outputs": [],
   "source": [
    "earth_quake_df_clean.to_csv('../3_Analysis/earthquake_data.csv', index=False)"
   ]
  },
  {
   "cell_type": "code",
   "execution_count": null,
   "id": "90f3c832",
   "metadata": {},
   "outputs": [],
   "source": []
  }
 ],
 "metadata": {
  "kernelspec": {
   "display_name": "Python 3 (ipykernel)",
   "language": "python",
   "name": "python3"
  },
  "language_info": {
   "codemirror_mode": {
    "name": "ipython",
    "version": 3
   },
   "file_extension": ".py",
   "mimetype": "text/x-python",
   "name": "python",
   "nbconvert_exporter": "python",
   "pygments_lexer": "ipython3",
   "version": "3.9.9"
  }
 },
 "nbformat": 4,
 "nbformat_minor": 5
}
